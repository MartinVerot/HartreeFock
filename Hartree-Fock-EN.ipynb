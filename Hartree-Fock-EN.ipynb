{
 "cells": [
  {
   "cell_type": "markdown",
   "id": "4fe5c1ee",
   "metadata": {},
   "source": [
    "# The Hartree-Fock Method : an example with STO-3G functions for 1s orbitals\n",
    "\n",
    "This python code aims to illustrate on a simple example how to perform a restrained Hartree-Fock calculation on two examples : dihydrogen and HeH$^+$. It aims to illustrate the algorithmic procedure to build the fock matrix and run a SCF procedure. It was written for students of the ENS Lyon, formation Sciences de la matière, at the L3 level (undergraduates).\n",
    "\n",
    "It goes with a full course where the notes are available here (in French) :\n",
    "http://agregationchimie.free.fr/cours.php#HartreeFock\n",
    "\n",
    "To reach a broader audience, all the equations refer to the book :\n",
    "\n",
    "* **Modern quantum chemistry : introduction to advanced electronic structure theory**\n",
    "  *Attila Szabo, Neil S. Ostlund*\n",
    "  ISBN 9780486691862\n",
    "\n",
    "This codes is heavily inspired on this page :\n",
    "https://medium.com/analytics-vidhya/practical-introduction-to-hartree-fock-448fc64c107b\n",
    "but was written from scratch and takes a slightly different route sometimes.\n",
    "\n",
    "This code is given under a CC-BY-NC-SA licence. It was written by Martin Vérot, full time teacher at the ENS de Lyon university.\n",
    "\n",
    "* [Reading a xyz File](#xyz)\n",
    "* [Reading the Basis Set](#basis-set)\n",
    "* [Number of Electrons](#nb-elec)\n",
    "* [Integrals Computation](#calcul-int)\n",
    " * [Definition of an Orbital Class](#classe-orb)\n",
    " * [Definition of an Orbital Product Class](#classe-prod)\n",
    " * [Creation of the Atomic Orbitals $\\chi_\\mu$](#orb-creation)\n",
    " * [Computing the Overlap Matrix](#overlap)\n",
    " * [Computing the Kinetic Energy Matrix](#kinetic)\n",
    " * [Computing the Nucleus-Electron Potential Matrix](#TNe)\n",
    " * [Computing the Electronic Repulsion](#intbi)\n",
    "* [Initializing the Density Matrix](#densitymatrix)\n",
    "* [Building up the Bi-electronic Matrix](#intbiG)\n",
    "* [SCF Procédure](#scf)"
   ]
  },
  {
   "cell_type": "code",
   "execution_count": 1,
   "id": "3cba46ba",
   "metadata": {},
   "outputs": [],
   "source": [
    "#import of libraries\n",
    "import numpy as np\n",
    "import scipy\n",
    "from scipy.special import erf\n",
    "import json"
   ]
  },
  {
   "cell_type": "markdown",
   "id": "3ba9ba87",
   "metadata": {},
   "source": [
    "Definition of some standard variables : elements abbreviations and their atomic number. Here, only H and He will be used."
   ]
  },
  {
   "cell_type": "code",
   "execution_count": 2,
   "id": "639901b9",
   "metadata": {},
   "outputs": [],
   "source": [
    "#Atomes \n",
    "AtomList = ['H', 'He', 'Li', 'Be', 'B', 'C', 'N', 'O', 'F', 'Ne', 'Na', 'Mg', 'Al', 'Si', 'P', 'S', 'Cl', 'Ar', 'K', 'Ca', 'Sc', 'Ti', 'V', 'Cr', 'Mn', 'Fe', 'Co', 'Ni', 'Cu', 'Zn', 'Ga', 'Ge', 'As', 'Se', 'Br', 'Kr', 'Rb', 'Sr', 'Y', 'Zr', 'Nb', 'Mo', 'Tc', 'Ru', 'Rh', 'Pd', 'Ag', 'Cd', 'In', 'Sn', 'Sb', 'Te', 'I', 'Xe', 'Cs', 'Ba', 'La', 'Ce', 'Pr', 'Nd', 'Pm', 'Sm', 'Eu', 'Gd', 'Tb', 'Dy', 'Ho', 'Er', 'Tm', 'Yb', 'Lu', 'Hf', 'Ta', 'W', 'Re', 'Os', 'Ir', 'Pt', 'Au', 'Hg', 'Tl', 'Pb', 'Bi', 'Po', 'At', 'Rn', 'Fr', 'Ra', 'Ac', 'Th', 'Pa', 'U', 'Np', 'Pu', 'Am', 'Cm', 'Bk', 'Cf', 'Es', 'Fm', 'Md', 'No', 'Lr', 'Rf', 'Db', 'Sg', 'Bh', 'Hs', 'Mt', 'Ds', 'Rg', 'Cn', 'Nh', 'Fl', 'Mc', 'Lv', 'Ts', 'Og']\n",
    "AtomCharges = np.arange(1,119,1)"
   ]
  },
  {
   "cell_type": "markdown",
   "id": "1b096826",
   "metadata": {},
   "source": [
    "<span id=\"xyz\"></span>\n",
    "# Reading a xyz File\n",
    "\n",
    ".xyz Files are a common way to share molecular geometries. This function will help to read them automatically. The first line of a .xyz file contains the full number of atoms in the molecule. The second line is a comment. The following lines contain the atomic symbol of each atom followed by its coordinates along x, y, and z."
   ]
  },
  {
   "cell_type": "code",
   "execution_count": 3,
   "id": "9268eb5b",
   "metadata": {},
   "outputs": [],
   "source": [
    "def read_xyz_file(file):\n",
    "    \"\"\"\n",
    "    Function to read a xyz fil\n",
    "    - file is the filename where we will read the coordinates, it must respect the .xyz standard\n",
    "    \"\"\"\n",
    "    file = open(file,'r')\n",
    "    nbAtoms = 0 #number of atoms read \n",
    "    check = 0 # nombre of atoms indicated on the first line of the xyz file\n",
    "    Atoms = [] # List of the atom types\n",
    "    coordinates = [] #List of the atom coordinates\n",
    "    #Reading of the file\n",
    "    for idx, line in enumerate(file):\n",
    "        #Storing the number of atoms that we should read\n",
    "        if idx == 0:\n",
    "            check = int(line.split()[0])\n",
    "        #The comment line is ignored then we read the coordinates line by line\n",
    "        elif idx>1:\n",
    "            split = line.split() #split the line\n",
    "            Atoms.append(split[0]) #reading the atom type\n",
    "            #reading the coordinates and converting them to a numpy array of floats\n",
    "            coordinates.append(np.array([split[1],split[2],split[3]],dtype='float'))\n",
    "            nbAtoms+=1 #incrementing the number of atoms\n",
    "    file.close() \n",
    "    if check != nbAtoms:\n",
    "        print('WARNING : the number of coordinates read is different from the theoretical number of atoms. You may have to suppress blank lines at the end of your file.')\n",
    "    return nbAtoms, Atoms, coordinates"
   ]
  },
  {
   "cell_type": "code",
   "execution_count": 4,
   "id": "31da9112",
   "metadata": {},
   "outputs": [],
   "source": [
    "#example files\n",
    "file = 'H2.xyz'\n",
    "file = 'HeH.xyz'\n",
    "#reading of the .xyz file containing the atom coordinate\n",
    "nbAtoms, Atoms, coordinates = read_xyz_file(file)"
   ]
  },
  {
   "cell_type": "markdown",
   "id": "e86ebc1b",
   "metadata": {},
   "source": [
    "We now will create a new array with the atomic charges corresponding to each atom. \n",
    "It will be useful to compute the Nucleaus-ELectron potential and the nuclear repulsion.\n",
    "To this end we use the correspondance of index between `AtomList` and `AtomCharges`. "
   ]
  },
  {
   "cell_type": "code",
   "execution_count": 5,
   "id": "73cad037",
   "metadata": {},
   "outputs": [],
   "source": [
    "AtomicCharges = []\n",
    "for atom in Atoms:\n",
    "    idx = AtomList.index(atom)\n",
    "    AtomicCharges.append(AtomCharges[idx])"
   ]
  },
  {
   "cell_type": "markdown",
   "id": "9c9db88c",
   "metadata": {},
   "source": [
    "<span id=\"basis-set\"></span>\n",
    "# Reading the Basis Set\n",
    "We will now read the basis set assuming a minimal STO-3G basis set. The code should work for different basis sets *as long as they are based on gaussian integrals and contain only s orbitals*.\n",
    "\n",
    "The file used by default is a modification from the file obtained from https://www.basissetexchange.org/ with a json export."
   ]
  },
  {
   "cell_type": "code",
   "execution_count": 6,
   "id": "c6b848ea",
   "metadata": {},
   "outputs": [],
   "source": [
    "def readBasisSetJSON(file):\n",
    "    \"\"\"\n",
    "    Reading the basis set \n",
    "    - file must contain the basis set in a json file similar to the one \n",
    "      produced by the https://www.basissetexchange.org/ website\n",
    "    WARNING :\n",
    "    - the basis set corresponding to coefficients given in Szabo p159 correspond to the \"version 0\" of the site, \n",
    "      to get this version you must use the \"advanced mode\"\n",
    "    - Simlarly, the coefficient given for Helium are not the same as the ones given in Szabo p170.\n",
    "    - this program does NOT WORK with p orbitals, \n",
    "      ***it is ONLY possible to perform calculations on molecules containing ONLY H and He atoms !***\n",
    "    - To get a proper correspondance between basis sets and atoms, the file must contain \n",
    "      all the basis sets for all atoms from hydrogen up to the heaviest one. \n",
    "    \"\"\" \n",
    "    f = open(file_basis)\n",
    "    basis_sets = json.load(f)\n",
    "    #Exponents and coefficients for s orbitals\n",
    "    Sexponents = []\n",
    "    Scoefficients = []\n",
    "    #Exponents and coefficients for p orbitals\n",
    "    Pexponents = []\n",
    "    Pcoefficients = []\n",
    "\n",
    "    #For each element, we read the basis set:\n",
    "    for i,element in enumerate(basis_sets['elements']):\n",
    "        #reading for each subshell\n",
    "        #print(AtomList[int(element)-1]) #printing the element\n",
    "        #Adding a set of exponents and coefficients for each element.\n",
    "        Sexponents.append([])\n",
    "        Pexponents.append([])\n",
    "        Scoefficients.append([])\n",
    "        Pcoefficients.append([])\n",
    "        \"\"\"\n",
    "        Then we read the file by ascending order, it shoulf fill naturally all the subshells.\n",
    "        This part should not work for element with d orbitals (Z>=21, Scandium)\n",
    "        \"\"\"\n",
    "        for shell in basis_sets['elements'][element]['electron_shells']: \n",
    "            #reading the exponents and coefficients for each subshell\n",
    "            for subshell in shell['angular_momentum']:\n",
    "                AtomExponents = np.asarray(shell['exponents'],dtype=\"float\")\n",
    "                AtomCoefficients = np.asarray(shell['coefficients'][subshell],dtype=\"float\")\n",
    "                if subshell == 0:\n",
    "                    Sexponents[i].append(AtomExponents)\n",
    "                    Scoefficients[i].append(AtomCoefficients)\n",
    "                if subshell == 1:\n",
    "                    Pexponents[i].append(AtomExponents)\n",
    "                    Pcoefficients[i].append(AtomCoefficients)\n",
    "    return Sexponents,Scoefficients,Pexponents,Pcoefficients"
   ]
  },
  {
   "cell_type": "code",
   "execution_count": 7,
   "id": "32658044",
   "metadata": {},
   "outputs": [],
   "source": [
    "#file containing the basis set\n",
    "file_basis = 'sto-3g0.json' #Szabo coefficients for H and website ones for He\n",
    "file_basis = 'sto-3gExchange.json' #website coefficients for H and He\n",
    "file_basis = 'sto-3gSzabo.json' #Szabo coefficients for H and He\n",
    "Sexponents,Scoefficients,Pexponents,Pcoefficients = readBasisSetJSON(file_basis)"
   ]
  },
  {
   "cell_type": "code",
   "execution_count": 8,
   "id": "6ab42512",
   "metadata": {},
   "outputs": [
    {
     "name": "stdout",
     "output_type": "stream",
     "text": [
      "H\n",
      "1s\n",
      "[3.42525091 0.62391373 0.1688554 ]\n",
      "[0.15432897 0.53532814 0.44463454]\n",
      "He\n",
      "1s\n",
      "[9.75393462 1.77669115 0.48084429]\n",
      "[0.15432897 0.53532814 0.44463454]\n"
     ]
    }
   ],
   "source": [
    "#Printing the exponents and coefficients for each primitive gaussian of each orbital.\n",
    "for i,coeffs in enumerate(Sexponents):\n",
    "    print(AtomList[i])\n",
    "    for j,exponents in enumerate(coeffs):\n",
    "        print('{}s'.format(j+1))\n",
    "        print(exponents)\n",
    "        print(Scoefficients[i][j])"
   ]
  },
  {
   "cell_type": "markdown",
   "id": "3b8bcc60",
   "metadata": {},
   "source": [
    "<span id=\"nb-elec\"></span>\n",
    "# Number of Electrons"
   ]
  },
  {
   "cell_type": "code",
   "execution_count": 9,
   "id": "b5cf2785",
   "metadata": {},
   "outputs": [],
   "source": [
    "NbElectrons = int(2)\n",
    "#Number of doubly occupied orbitals (this code works within the RESTRAINED Hartree-Fock formalism)\n",
    "orbOccupied = int(NbElectrons/2)"
   ]
  },
  {
   "cell_type": "markdown",
   "id": "2be67426",
   "metadata": {},
   "source": [
    "<span id=\"calcul-int\"></span>\n",
    "# Integrals Computation"
   ]
  },
  {
   "cell_type": "markdown",
   "id": "85ee6c18",
   "metadata": {},
   "source": [
    "<span id=\"classe-orb\"></span>\n",
    "### Definition of an Orbital Class\n",
    "\n",
    "\n",
    "WARNING :\n",
    "$\\chi^\\mathrm{G}_{\\alpha_{p\\mu},\\mathbf{R_A}}\\left(\\mathbf{r} \\right) = \\left(\\dfrac{2 \\alpha_{p\\mu}}{\\pi}\\right)^{0.75}\\exp(-\\alpha_{p\\mu} |\\mathbf{r}-\\mathbf{r}_A|^2)$\n",
    "\n",
    "We will need to store orbitals. Instead of computing directly the full orbital in its complete form :\n",
    "$\\chi^{CGF}_{\\mu}\\left(\\mathbf{r}-\\mathbf{R}_A \\right) = \\sum_{p=1}^{L} c_{p\\mu}\\chi^\\mathrm{G}_{\\alpha_{p\\mu},\\mathbf{R_A}}\\left(\\mathbf{r} \\right)$\n",
    "we will store it with two arrays :\n",
    "* an array with the gaussian exponents $\\{\\alpha_{p\\mu}\\}$\n",
    "* an array with the contraction coefficients $\\{c_{p\\mu}\\}$ \n",
    "* and an array containing the coordinates of the center of the orbital\n",
    "When we will have to make gaussian products, it will be much easier to compute them this way to use some results about integrals of gaussian functions.\n",
    "\n",
    "We also give a human readable name for the orbital from : \n",
    "- the indix of the atom in the `Atoms` list\n",
    "- the symbol of the element\n",
    "- the corresponding shell\n",
    "\n",
    "Thus, for HeH$^+$ the first orbital is called `0He1s` and the second `1H1s`. "
   ]
  },
  {
   "cell_type": "code",
   "execution_count": 10,
   "id": "df79d81e",
   "metadata": {},
   "outputs": [],
   "source": [
    "class Orbital:\n",
    "    \"\"\"\n",
    "    name : the orbital name : number of the atom, its symbol, then the orbital type\n",
    "    center : 3D coordinates of the atom bearing the orbital\n",
    "    exponents :  exponents of the gaussians, stored as a numpy array\n",
    "    coeffs : coefficients of the gaussians, stored as a numpy array\n",
    "    \"\"\"\n",
    "    def __init__(self, name, center, exponents, coeffs):\n",
    "        self.name = name\n",
    "        self.center = center\n",
    "        self.exponents = exponents\n",
    "        self.coeffs = coeffs\n",
    "    def __repr__(self):\n",
    "        return 'name :         {}\\ncenter :       {}\\nexponents    : {}\\ncoefficients : {}'.format(self.name,self.center,self.exponents,self.coeffs)"
   ]
  },
  {
   "cell_type": "markdown",
   "id": "3998beec",
   "metadata": {},
   "source": [
    "<span id=\"classe-prod\"></span>\n",
    "### Definition of an Orbital Product Class\n",
    "Similarly, we create a new Class corresponding to a gaussian product. To this end, we store :\n",
    "- `p` the gaussian exponents which are the sum of the original exponants ($p = \\alpha+ \\beta$ Szabo, equation 3.209 p 154)\n",
    "- `ab` the product of the two exponents (useful to compute some integrals later) ($ab=\\alpha\\times \\beta$)\n",
    "- `diffR` the norm of the difference between the two centers of each original gaussian ($|\\mathbf{r}_A-\\mathbf{r}_B|^2$)\n",
    "- `K` the normalisartion constante corresponding to $\\mathtt{K}= \\exp(-\\mathtt{ab}/\\mathtt{p}*\\mathtt{diffR})\\times \\left(\\dfrac{4 \\alpha\\times \\beta }{\\pi^2}\\right)^{0.75} \\times c_A\\times c_B $ (Szabo, equation 3.208 p154 with an additional factor of $\\left(\\dfrac{4 \\alpha\\times \\beta }{\\pi^2}\\right)^{0.75}$ to take into account the normalization of the gaussians and the contraction coefficients $c_A$ et $c_B$ which are the $c_{p\\mu}$.)\n",
    "- `Rp` the coordinates of the new center of the gaussian product\n",
    "\n",
    "We thus have $\\chi_\\mu\\times\\chi_\\nu = \\sum_i K_i\\exp(-p_i |\\mathbf{r}-\\mathbf{Rp}|^2)$"
   ]
  },
  {
   "cell_type": "code",
   "execution_count": 11,
   "id": "4d804fc8",
   "metadata": {},
   "outputs": [],
   "source": [
    "class OrbitalProduct:\n",
    "    \"\"\"\n",
    "    name : name of the product\n",
    "    p : exponents linked to each term of the product\n",
    "    diffR : norm of the difference between orbital centers\n",
    "    K : normalized coefficient linked to each term of the product\n",
    "    Rp : center of the gaussian product\n",
    "    \"\"\"\n",
    "    def __init__(self,name,p, ab,diffR, K, Rp):\n",
    "        self.name = name\n",
    "        self.p = p\n",
    "        self.ab = ab\n",
    "        self.diffR = diffR\n",
    "        self.K = K\n",
    "        self.Rp = Rp"
   ]
  },
  {
   "cell_type": "markdown",
   "id": "ddcc6cc8",
   "metadata": {},
   "source": [
    "We can now use the results given p154 or 411 of the Szabo to perform the calculation on the product of two gaussians."
   ]
  },
  {
   "cell_type": "code",
   "execution_count": 12,
   "id": "c96bd4db",
   "metadata": {},
   "outputs": [],
   "source": [
    "#Computation of the product of gaussians (Szabo p411)\n",
    "#The N factor gives the proper factor to normalize the product.\n",
    "def ProductGaussians(orba,orbb,i,j):\n",
    "    #sum of the exponents\n",
    "    p = orba.exponents[i] + orbb.exponents[j]\n",
    "    ab = orba.exponents[i]*orbb.exponents[j]\n",
    "    #computation of the norm of the difference between gaussian centers\n",
    "    diffR = (np.linalg.norm(orba.center-orbb.center))**2\n",
    "    #Normalization coefficient\n",
    "    N = (4*ab/(np.pi**2))**0.75\n",
    "    K = N*np.exp(-ab/p*diffR)*orba.coeffs[i]*orbb.coeffs[j]\n",
    "    #center of the gaussian product\n",
    "    Rp = (orba.exponents[i]*orba.center+orbb.exponents[j]*orbb.center)/p\n",
    "    return p,ab, diffR, K, Rp"
   ]
  },
  {
   "cell_type": "markdown",
   "id": "7746193f",
   "metadata": {},
   "source": [
    "Then we can generalize the computation of gaussian products which are the sum of gaussians. The product of two STO-3G gaussians gives rise to 9 new gaussian orbitals. "
   ]
  },
  {
   "cell_type": "code",
   "execution_count": 13,
   "id": "e555e330",
   "metadata": {},
   "outputs": [],
   "source": [
    "def ProductOrbitals(orba,orbb):\n",
    "    ps=[]\n",
    "    Ks=[]\n",
    "    Rps=[]\n",
    "    abss=[]\n",
    "    for i in range(orba.exponents.shape[0]):\n",
    "        for j in range(orbb.exponents.shape[0]):\n",
    "            p, ab, diffR, K, Rp = ProductGaussians(orba,orbb,i,j)\n",
    "            ps.append(p)\n",
    "            Ks.append(K)\n",
    "            Rps.append(Rp)\n",
    "            abss.append(ab)\n",
    "    return OrbitalProduct('{}x{}'.format(orba.name,orbb.name),np.asarray(ps),np.asarray(abss),diffR,np.asarray(Ks),np.asarray(Rps))"
   ]
  },
  {
   "cell_type": "markdown",
   "id": "d53ff451",
   "metadata": {},
   "source": [
    "<span id=\"orb-creation\"></span>\n",
    "## Creation of the Atomic Orbitals $\\chi_\\mu$\n",
    "For each atom, we create a set of orbitals based on the basis set. For that, we use the `Orbital` class defined [here](#classe-orb).\n",
    "\n",
    "`nbOrbitals` is the total number of atomic orbitals (written as $M$ in the notes)"
   ]
  },
  {
   "cell_type": "code",
   "execution_count": 14,
   "id": "1d10f00d",
   "metadata": {},
   "outputs": [],
   "source": [
    "Orbitals = []\n",
    "#total number of atomic orbitals\n",
    "nbOrbitals = 0\n",
    "\n",
    "\"\"\"\n",
    "Assigning a set of orbitals to each atom : we create a et of orbitals centered on each atom.\n",
    "\"\"\"\n",
    "for i,atom in enumerate(Atoms):\n",
    "    idx = AtomList.index(atom)\n",
    "    for j,exponents in enumerate(Sexponents[idx]):\n",
    "        Orbitals.append(Orbital('{}{}{}s'.format(i,atom,j+1),coordinates[i],exponents,Scoefficients[idx][j]))\n",
    "        nbOrbitals +=1    "
   ]
  },
  {
   "cell_type": "code",
   "execution_count": 15,
   "id": "e2e2409c",
   "metadata": {
    "scrolled": true
   },
   "outputs": [
    {
     "name": "stdout",
     "output_type": "stream",
     "text": [
      "name :         0He1s\n",
      "center :       [0. 0. 0.]\n",
      "exponents    : [9.75393462 1.77669115 0.48084429]\n",
      "coefficients : [0.15432897 0.53532814 0.44463454]\n",
      "name :         1H1s\n",
      "center :       [0.     0.     1.4632]\n",
      "exponents    : [3.42525091 0.62391373 0.1688554 ]\n",
      "coefficients : [0.15432897 0.53532814 0.44463454]\n"
     ]
    }
   ],
   "source": [
    "#Printing of each orbital created        \n",
    "for i,orb in enumerate(Orbitals):\n",
    "    print(orb)"
   ]
  },
  {
   "cell_type": "markdown",
   "id": "8bd9d2f1",
   "metadata": {},
   "source": [
    "<span id=\"overlap\"></span>\n",
    "## Computing the Overlap Matrix\n",
    "We use formula A.9 p412 of Szabo with an adapted version taking into account the coefficients of the orbital and the normalisation factors for `K`."
   ]
  },
  {
   "cell_type": "code",
   "execution_count": 16,
   "id": "50f1ee8a",
   "metadata": {},
   "outputs": [],
   "source": [
    "def Overlap(gp):\n",
    "    \"\"\"\n",
    "    Computing the overlap : the integral of the gaussian product. \n",
    "    The commented formula is equivalent to the one used below.\n",
    "    - gp is an `OrbitalProduct` object.\n",
    "    \"\"\"\n",
    "    #S = 0\n",
    "    #for j in range(len(gp.p)):\n",
    "    #    S+=gp.K[j]*(np.pi/gp.p[j])**1.5\n",
    "    S = np.sum(gp.K*(np.pi/gp.p)**1.5)\n",
    "    return S"
   ]
  },
  {
   "cell_type": "code",
   "execution_count": 17,
   "id": "816c8205",
   "metadata": {},
   "outputs": [
    {
     "name": "stdout",
     "output_type": "stream",
     "text": [
      "[[1.00000085 0.45076978]\n",
      " [0.45076978 0.99999999]]\n"
     ]
    }
   ],
   "source": [
    "#Creation of the overlap matrix\n",
    "OverlapMatrix = np.zeros((nbOrbitals,nbOrbitals))\n",
    "\n",
    "#Computing each term of the matrix. As S is here a real symmetric matrix, only half of it is computed.\n",
    "for i in range(nbOrbitals):\n",
    "    for j in range(i,nbOrbitals):\n",
    "        product = ProductOrbitals(Orbitals[i],Orbitals[j])\n",
    "        S = Overlap(product)\n",
    "        OverlapMatrix[i,j]=S\n",
    "        OverlapMatrix[j,i]=S\n",
    "\n",
    "print(OverlapMatrix)"
   ]
  },
  {
   "cell_type": "markdown",
   "id": "98138696",
   "metadata": {},
   "source": [
    "<span id=\"kinetic\"></span>\n",
    "## Computing the Kinetic Energy Matrix\n",
    "We use formula A.11 p412 of Szabo."
   ]
  },
  {
   "cell_type": "code",
   "execution_count": 18,
   "id": "e2174c3f",
   "metadata": {},
   "outputs": [],
   "source": [
    "def Kinetic(gp):\n",
    "    \"\"\"\n",
    "    Computing the kinetic energy.\n",
    "    The commented formula is equivalent to the one used below.\n",
    "    - gp is an `OrbitalProduct` object.\n",
    "    \"\"\"\n",
    "    #K = 0\n",
    "    #for j in range(len(gp.p)):\n",
    "    #    prefactor = gp.ab[j]/gp.p[j]*(3-2*gp.ab[j]/gp.p[j] *gp.diffR )\n",
    "    #    K+=prefactor*gp.K[j]*(np.pi/gp.p[j])**1.5\n",
    "    return np.sum(gp.ab/gp.p *(3-2*gp.ab/gp.p*gp.diffR)*gp.K*(np.pi/gp.p)**1.5)   "
   ]
  },
  {
   "cell_type": "code",
   "execution_count": 19,
   "id": "4e70f9a0",
   "metadata": {},
   "outputs": [
    {
     "name": "stdout",
     "output_type": "stream",
     "text": [
      "[[2.16431219 0.16701245]\n",
      " [0.16701245 0.76003188]]\n"
     ]
    }
   ],
   "source": [
    "#Creating the kinetic matrix\n",
    "KineticMatrix = np.zeros((nbOrbitals,nbOrbitals))\n",
    "\n",
    "#Computing each term of the matrix. As K is here a real symmetric matrix, only half of it is computed.\n",
    "for i in range(nbOrbitals):\n",
    "    for j in range(i,nbOrbitals):\n",
    "        product = ProductOrbitals(Orbitals[i],Orbitals[j])\n",
    "        K = Kinetic(product)\n",
    "        KineticMatrix[i,j]=K\n",
    "        KineticMatrix[j,i]=K\n",
    "\n",
    "print(KineticMatrix)"
   ]
  },
  {
   "cell_type": "markdown",
   "id": "4365290a",
   "metadata": {},
   "source": [
    "<span id=\"TNe\"></span>\n",
    "## Computing the Nucleus-Electron Potential Matrix\n",
    "We use formula A.33 p415 of Szabo. "
   ]
  },
  {
   "cell_type": "code",
   "execution_count": 20,
   "id": "5aa7b21d",
   "metadata": {},
   "outputs": [],
   "source": [
    "#Function defined equation A.32 p415 of Szabo \n",
    "\"\"\"\n",
    "(Boys function, more information is available on them in \n",
    "Molecular Electronic-Structure Theory\n",
    "  Trygve Helgaker, Poul Jorgensen, Jeppe Olsen\n",
    "  2013, Wiley\n",
    "\"\"\"\n",
    "def Fo(t):\n",
    "    if t==0:\n",
    "        return 1\n",
    "    else:\n",
    "        return (0.5*(np.pi/t)**0.5)*erf(t**0.5)\n",
    "    \n",
    "def Potential(gp):\n",
    "    \"\"\"\n",
    "    Computation of V_Ne\n",
    "    The commented formula is equivalent to the one used below.\n",
    "    - gp is an `OrbitalProduct` object.\n",
    "    \"\"\"\n",
    "    V = 0\n",
    "    for j in range(len(gp.p)):\n",
    "        #On somme les termes en Z/rAi :\n",
    "        for idx,Z in enumerate(AtomicCharges):\n",
    "            prefactor = -2*np.pi/gp.p[j]*Z*Fo(gp.p[j]*(np.linalg.norm(gp.Rp[j]-coordinates[idx]))**2)\n",
    "            V+=prefactor*gp.K[j]\n",
    "    return V   "
   ]
  },
  {
   "cell_type": "code",
   "execution_count": 21,
   "id": "18570abd",
   "metadata": {},
   "outputs": [
    {
     "name": "stdout",
     "output_type": "stream",
     "text": [
      "[[-4.81705533 -1.51421594]\n",
      " [-1.51421594 -2.49185753]]\n"
     ]
    }
   ],
   "source": [
    "#creating the potential energy matrix\n",
    "VMatrix = np.zeros((nbOrbitals,nbOrbitals))\n",
    "\n",
    "#Computing each term of the matrix. As V is here a real symmetric matrix, only half of it is computed.\n",
    "for i in range(nbOrbitals):\n",
    "    for j in range(i,nbOrbitals):\n",
    "        product = ProductOrbitals(Orbitals[i],Orbitals[j])\n",
    "        V = Potential(product)\n",
    "        VMatrix[i,j]=V\n",
    "        VMatrix[j,i]=V\n",
    "\n",
    "print(VMatrix)"
   ]
  },
  {
   "cell_type": "markdown",
   "id": "bd1c366a",
   "metadata": {},
   "source": [
    "## Computing the Mono-Electronic part $H^\\mathrm{core}$\n",
    "Using equation 3.153 p141 of Szabo"
   ]
  },
  {
   "cell_type": "code",
   "execution_count": 22,
   "id": "f230b46c",
   "metadata": {},
   "outputs": [
    {
     "name": "stdout",
     "output_type": "stream",
     "text": [
      "[[-2.65274315 -1.34720349]\n",
      " [-1.34720349 -1.73182566]]\n"
     ]
    }
   ],
   "source": [
    "HcoreMatrix = KineticMatrix+VMatrix\n",
    "print(HcoreMatrix)"
   ]
  },
  {
   "cell_type": "markdown",
   "id": "a5d662d9",
   "metadata": {},
   "source": [
    "<span id=\"intbi\"></span>\n",
    "## Computing the Electronic Repulsion\n",
    "We use formula A.41 p 416 of Szabo"
   ]
  },
  {
   "cell_type": "code",
   "execution_count": 23,
   "id": "59a3839f",
   "metadata": {},
   "outputs": [],
   "source": [
    "def integralbi(orba,orbb,orbc,orbd):\n",
    "    #a and b are occupied by electron 1\n",
    "    #c and d are occupied by electron 2\n",
    "    prAB = ProductOrbitals(orba,orbb)\n",
    "    prCD = ProductOrbitals(orbc,orbd)\n",
    "    I=0\n",
    "    for i in range(len(prAB.p)):\n",
    "        for j in range(len(prCD.p)):\n",
    "            prefactor = (2*np.pi**2.5)/(prAB.p[i]*prCD.p[j]*(prAB.p[i]+prCD.p[j])**0.5)*Fo(prAB.p[i]*prCD.p[j]/(prAB.p[i]+prCD.p[j])*(np.linalg.norm(prAB.Rp[i]-prCD.Rp[j]))**2)\n",
    "            I+=prefactor*prAB.K[i]*prCD.K[j]\n",
    "    return I "
   ]
  },
  {
   "cell_type": "code",
   "execution_count": 24,
   "id": "19a55df5",
   "metadata": {},
   "outputs": [
    {
     "data": {
      "text/plain": [
       "'\\nChecking the values given p162 equation 3.235 of Szabo\\ncombi = (0,1,0,1)\\nprint(combi)\\nprint(integralbi(Orbitals[combi[0]],Orbitals[combi[1]],Orbitals[combi[2]],Orbitals[combi[3]]))\\ncombi = (0,0,1,1)\\nprint(combi)\\nprint(integralbi(Orbitals[combi[0]],Orbitals[combi[1]],Orbitals[combi[2]],Orbitals[combi[3]]))\\ncombi = (0,0,0,0)\\nprint(combi)\\nprint(integralbi(Orbitals[combi[0]],Orbitals[combi[1]],Orbitals[combi[2]],Orbitals[combi[3]]))\\ncombi = (1,1,1,1)\\nprint(combi)\\nprint(integralbi(Orbitals[combi[0]],Orbitals[combi[1]],Orbitals[combi[2]],Orbitals[combi[3]]))\\n'"
      ]
     },
     "execution_count": 24,
     "metadata": {},
     "output_type": "execute_result"
    }
   ],
   "source": [
    "\"\"\"\n",
    "Checking the values given p162 equation 3.235 of Szabo\n",
    "combi = (0,1,0,1)\n",
    "print(combi)\n",
    "print(integralbi(Orbitals[combi[0]],Orbitals[combi[1]],Orbitals[combi[2]],Orbitals[combi[3]]))\n",
    "combi = (0,0,1,1)\n",
    "print(combi)\n",
    "print(integralbi(Orbitals[combi[0]],Orbitals[combi[1]],Orbitals[combi[2]],Orbitals[combi[3]]))\n",
    "combi = (0,0,0,0)\n",
    "print(combi)\n",
    "print(integralbi(Orbitals[combi[0]],Orbitals[combi[1]],Orbitals[combi[2]],Orbitals[combi[3]]))\n",
    "combi = (1,1,1,1)\n",
    "print(combi)\n",
    "print(integralbi(Orbitals[combi[0]],Orbitals[combi[1]],Orbitals[combi[2]],Orbitals[combi[3]]))\n",
    "\"\"\""
   ]
  },
  {
   "cell_type": "markdown",
   "id": "0784a838",
   "metadata": {},
   "source": [
    " <span id=\"densitymatrix\"></span>\n",
    " # Initializing the Density Matrix"
   ]
  },
  {
   "cell_type": "code",
   "execution_count": 25,
   "id": "8134e632",
   "metadata": {},
   "outputs": [],
   "source": [
    "def diagonalizeAscendingEigenvalues(M):\n",
    "    \"\"\"\n",
    "    Diagonalizing the M matrix with eigenvalues in ascending order.\n",
    "    Important to build the density matrix as it uses only occupied orbitals.\n",
    "    \"\"\"\n",
    "    eigVal,eigVec = np.linalg.eig(M)\n",
    "    idx = np.argsort(eigVal)\n",
    "    eigVal = eigVal[idx]\n",
    "    eigVec = eigVec[:,idx]\n",
    "    return eigVal,eigVec"
   ]
  },
  {
   "cell_type": "code",
   "execution_count": 26,
   "id": "7a07577a",
   "metadata": {},
   "outputs": [],
   "source": [
    "def buildPmatrix(Cmatrix,nbOrbitals,orbOccupied):\n",
    "    \"\"\"\n",
    "    Building the density matrix from\n",
    "    - the Cmatrix coefficients containing all the decomposition of the orbitals on the atomic orbitals\n",
    "    - the full number of orbitals nbOrbitals\n",
    "    - orbOccupied which is the number of **occupied orbitals**.\n",
    "    See equation 3.145 p139 of Szabo\n",
    "    \"\"\"\n",
    "    Pmatrix = np.zeros_like(Cmatrix)\n",
    "    for i in range(nbOrbitals):\n",
    "        for j in range(nbOrbitals):\n",
    "            Pmatrix[i][j]=2*np.sum(Cmatrix[i,0:orbOccupied]*Cmatrix[j,0:orbOccupied])\n",
    "            Pmatrix[j][i]=Pmatrix[i][j]\n",
    "    return Pmatrix"
   ]
  },
  {
   "cell_type": "markdown",
   "id": "bb8cbdcd",
   "metadata": {},
   "source": [
    "For our first guess for the density matrix, we diagonalize $H^\\mathrm{core}$."
   ]
  },
  {
   "cell_type": "code",
   "execution_count": 27,
   "id": "1fd02b83",
   "metadata": {},
   "outputs": [
    {
     "name": "stdout",
     "output_type": "stream",
     "text": [
      "[[-0.8134554   0.58162729]\n",
      " [-0.58162729 -0.8134554 ]]\n"
     ]
    }
   ],
   "source": [
    "E0,C0 = diagonalizeAscendingEigenvalues(HcoreMatrix)\n",
    "Cmatrix = C0\n",
    "print(Cmatrix)\n",
    "\n",
    "#Building the density matrix from the coefficient matrix\n",
    "Pmatrix = buildPmatrix(Cmatrix,nbOrbitals,orbOccupied)"
   ]
  },
  {
   "cell_type": "markdown",
   "id": "e6d07245",
   "metadata": {},
   "source": [
    "<span id=\"intbiG\"></span>\n",
    "# Building up the Bi-electronic Matrix\n",
    "equation 3.154 p141 of Szabo"
   ]
  },
  {
   "cell_type": "code",
   "execution_count": 28,
   "id": "44eae70b",
   "metadata": {},
   "outputs": [],
   "source": [
    "def BuildBiMatrix(nbOrbitals,Pmatrix,Orbitals):\n",
    "    \"\"\"\n",
    "    Integralbi uses the \"chemists\" notation : integralbi(a,b,c,d) = (ab|cd) (chemist notation) = <ac||bd> \"physicist notation\"\n",
    "    - nbOrbitals number of orbitals \n",
    "    - Pmatrix density matrix\n",
    "    - Orbitals : atomic orbitals\n",
    "    \"\"\"\n",
    "    BiMatrix = np.zeros((nbOrbitals,nbOrbitals))\n",
    "    for mu in range(nbOrbitals):\n",
    "        for nu in range(nbOrbitals):\n",
    "            G = 0\n",
    "            for sigma in range(nbOrbitals):\n",
    "                for llambda in range(nbOrbitals):\n",
    "                    G += Pmatrix[sigma][llambda]*(integralbi(Orbitals[mu],Orbitals[nu],Orbitals[sigma],Orbitals[llambda])-0.5*integralbi(Orbitals[mu],Orbitals[llambda],Orbitals[sigma],Orbitals[nu]))\n",
    "            BiMatrix[mu,nu]=G\n",
    "            BiMatrix[nu,mu]=G\n",
    "    return BiMatrix"
   ]
  },
  {
   "cell_type": "markdown",
   "id": "30573404",
   "metadata": {},
   "source": [
    "<span id=\"symmbase\"></span>\n",
    "# Orthonormalization of the basis set\n",
    "Voir p 142-143 du Szabo."
   ]
  },
  {
   "cell_type": "code",
   "execution_count": 29,
   "id": "1522ee6f",
   "metadata": {},
   "outputs": [
    {
     "name": "stdout",
     "output_type": "stream",
     "text": [
      "[[ 0.70710712 -0.70710645]\n",
      " [ 0.70710645  0.70710712]]\n",
      "[[ 1.08978882 -0.25955474]\n",
      " [-0.25955474  1.08978932]]\n"
     ]
    }
   ],
   "source": [
    "#diagonalization of the overlap matrix; equation 3.166 p143 of Szabo.\n",
    "evalS,U = np.linalg.eig(OverlapMatrix)\n",
    "\"\"\"\n",
    "U is the  transition matrix such that s is diagonal if we compute \n",
    "U.T × OverlapMatrix × U = s with s diagonal\n",
    "\"\"\"\n",
    "print(U)\n",
    "#We take the eigenvalues, we place them on the diagonal and take the inverse of the square root\n",
    "invsqrtS = np.diag(evalS**-0.5)\n",
    "#equation 3.167 of Szabo\n",
    "matZ = np.dot(U,np.dot(invsqrtS,U.T))\n",
    "print(matZ)\n",
    "#checking equation (3.168) to show that the basis set is made orthoganl with the use of matZ\n",
    "#print(np.dot(matZ.T,np.dot(OverlapMatrix,matZ)))"
   ]
  },
  {
   "cell_type": "markdown",
   "id": "c530935b",
   "metadata": {},
   "source": [
    "<span id=\"scf\"></span>\n",
    "# SCF Procedure"
   ]
  },
  {
   "cell_type": "markdown",
   "id": "3b3909cb",
   "metadata": {},
   "source": [
    "## Convergence Criteria\n",
    "We check if the matrix density has converged compared to the previous iteration. We couls also take a criteria based on the energy, or on both."
   ]
  },
  {
   "cell_type": "code",
   "execution_count": 30,
   "id": "d723d3d7",
   "metadata": {},
   "outputs": [],
   "source": [
    "def diffP(P1,P2):\n",
    "    \"\"\"\n",
    "    - P1 density matrix at the previous step\n",
    "    - P2 density matrix at this step\n",
    "    \"\"\"\n",
    "    return np.sqrt(np.sum((P1-P2)**2))"
   ]
  },
  {
   "cell_type": "markdown",
   "id": "f6510203",
   "metadata": {},
   "source": [
    "## Computing the nuclear energy"
   ]
  },
  {
   "cell_type": "code",
   "execution_count": 31,
   "id": "9c10632e",
   "metadata": {},
   "outputs": [],
   "source": [
    "def Enuc(AtomicCharges,coordinates):\n",
    "    \"\"\"\n",
    "    AtomicCharges : Agomic number of each atom\n",
    "    coordinates : nuclear coordinates\n",
    "    \"\"\"\n",
    "    E = 0\n",
    "    for A,ZA in enumerate(AtomicCharges):\n",
    "        for B,ZB in enumerate(AtomicCharges):\n",
    "            if A != B: #On ne veut pas calculer la répulsion d'un atome avec lui même\n",
    "                E+=ZA*ZB/np.linalg.norm(coordinates[A]-coordinates[B])\n",
    "    return 0.5 * E #facteur 0.5 pour éviter le double comptage"
   ]
  },
  {
   "cell_type": "markdown",
   "id": "78d9879f",
   "metadata": {},
   "source": [
    "## SCF Procedure\n",
    "The different steps are the one given p 146 of Szabo."
   ]
  },
  {
   "cell_type": "code",
   "execution_count": 32,
   "id": "06e7a2d3",
   "metadata": {},
   "outputs": [
    {
     "name": "stdout",
     "output_type": "stream",
     "text": [
      "step 1\n",
      "Orbitalar Energies\n",
      "[-1.25593539  0.47218814]\n",
      "Electronic E \t -5.39390058663111\n",
      "total E \t -4.027033446117168\n",
      "S F\n",
      "[[ 1.00000085  0.45076978 -1.02417307 -0.9873405 ]\n",
      " [ 0.45076978  0.99999999 -0.9873405  -0.49044868]]\n",
      "C P\n",
      "[[-0.74559801  0.83611719  1.11183279  0.61177688]\n",
      " [-0.41025919 -1.04244751  0.61177688  0.33662521]]\n",
      "\n",
      "\n",
      "step 2\n",
      "Orbitalar Energies\n",
      "[-1.62975556 -0.06681464]\n",
      "Electronic E \t -4.213510495121946\n",
      "total E \t -2.8466433546080046\n",
      "S F\n",
      "[[ 1.00000085  0.45076978 -1.48450154 -1.07424023]\n",
      " [ 0.45076978  0.99999999 -1.07424023 -0.8358076 ]]\n",
      "C P\n",
      "[[-0.79845059  0.78580214  1.27504668  0.54537623]\n",
      " [-0.34152159 -1.06694537  0.54537623  0.233274  ]]\n",
      "\n",
      "\n",
      "step 3\n",
      "Orbitalar Energies\n",
      "[-1.59958252 -0.06184633]\n",
      "Electronic E \t -4.227470149187212\n",
      "total E \t -2.8606030086732703\n",
      "S F\n",
      "[[ 1.00000085  0.45076978 -1.46030425 -1.05221382]\n",
      " [ 0.45076978  0.99999999 -1.05221382 -0.81214633]]\n",
      "C P\n",
      "[[-0.80165974  0.78252796  1.28531667  0.54056291]\n",
      " [-0.33715234 -1.06833409  0.54056291  0.2273434 ]]\n",
      "\n",
      "\n",
      "step 4\n",
      "Orbitalar Energies\n",
      "[-1.59761028 -0.06168209]\n",
      "Electronic E \t -4.227525443558669\n",
      "total E \t -2.860658303044727\n",
      "S F\n",
      "[[ 1.00000085  0.45076978 -1.45876333 -1.0507151 ]\n",
      " [ 0.45076978  0.99999999 -1.0507151  -0.81063374]]\n",
      "C P\n",
      "[[-0.80189729  0.78228453  1.28607851  0.54020286]\n",
      " [-0.33682796 -1.0684364   0.54020286  0.22690616]]\n",
      "\n",
      "\n",
      "step 5\n",
      "Orbitalar Energies\n",
      "[-1.59746364 -0.0616706 ]\n",
      "Electronic E \t -4.227525747920765\n",
      "total E \t -2.8606586074068234\n",
      "S F\n",
      "[[ 1.00000085  0.45076978 -1.45864894 -1.05060339]\n",
      " [ 0.45076978  0.99999999 -1.05060339 -0.81052142]]\n",
      "C P\n",
      "[[-0.80191508  0.78226629  1.28613559  0.54017587]\n",
      " [-0.33680366 -1.06844406  0.54017587  0.22687341]]\n",
      "\n",
      "\n",
      "step 6\n",
      "Orbitalar Energies\n",
      "[-1.59745265 -0.06166975]\n",
      "Electronic E \t -4.227525749629187\n",
      "total E \t -2.8606586091152453\n",
      "S F\n",
      "[[ 1.00000085  0.45076978 -1.45864036 -1.05059502]\n",
      " [ 0.45076978  0.99999999 -1.05059502 -0.810513  ]]\n",
      "C P\n",
      "[[-0.80191641  0.78226492  1.28613987  0.54017385]\n",
      " [-0.33680184 -1.06844463  0.54017385  0.22687096]]\n",
      "\n",
      "\n",
      "step 7\n",
      "Orbitalar Energies\n",
      "[-1.59745182 -0.06166968]\n",
      "Electronic E \t -4.22752574963879\n",
      "total E \t -2.8606586091248483\n",
      "S F\n",
      "[[ 1.00000085  0.45076978 -1.45863972 -1.05059439]\n",
      " [ 0.45076978  0.99999999 -1.05059439 -0.81051237]]\n",
      "C P\n",
      "[[-0.80191651  0.78226482  1.28614019  0.54017369]\n",
      " [-0.3368017  -1.06844468  0.54017369  0.22687077]]\n",
      "\n",
      "\n",
      "step 8\n",
      "Orbitalar Energies\n",
      "[-1.59745176 -0.06166968]\n",
      "Electronic E \t -4.227525749638843\n",
      "total E \t -2.8606586091249016\n",
      "S F\n",
      "[[ 1.00000085  0.45076978 -1.45863967 -1.05059435]\n",
      " [ 0.45076978  0.99999999 -1.05059435 -0.81051233]]\n",
      "C P\n",
      "[[-0.80191652  0.78226481  1.28614021  0.54017368]\n",
      " [-0.33680169 -1.06844468  0.54017368  0.22687076]]\n",
      "\n",
      "\n",
      "step 9\n",
      "Orbitalar Energies\n",
      "[-1.59745176 -0.06166968]\n",
      "Electronic E \t -4.227525749638845\n",
      "total E \t -2.8606586091249033\n",
      "S F\n",
      "[[ 1.00000085  0.45076978 -1.45863967 -1.05059434]\n",
      " [ 0.45076978  0.99999999 -1.05059434 -0.81051232]]\n",
      "C P\n",
      "[[-0.80191652  0.78226481  1.28614022  0.54017368]\n",
      " [-0.33680169 -1.06844468  0.54017368  0.22687076]]\n",
      "\n",
      "\n"
     ]
    }
   ],
   "source": [
    "# Number of iterations performed , we stop if there is no convergence after 100 iterations\n",
    "step = 1\n",
    "#Initializing the convergence criteria \n",
    "Threshold = 100\n",
    "while Threshold > 1e-8 and step < 100:\n",
    "    #Construction of the bi-electronic part (step 5)\n",
    "    BiMatrix = BuildBiMatrix(nbOrbitals,Pmatrix,Orbitals)\n",
    "    #print(BiMatrix)\n",
    "    #Building the matrix of the Fock operator (step 6)\n",
    "    Fmatrix = HcoreMatrix + BiMatrix\n",
    "    #Building the F' matrix  in the orthogonal basis (step 7)\n",
    "    FmatrixPrime = np.dot(matZ.T,np.dot(Fmatrix,matZ))\n",
    "    #Diagonalization of F' (step 8)\n",
    "    E,Cprime = diagonalizeAscendingEigenvalues(FmatrixPrime)\n",
    "    #Computation of the coefficients in the initial basis set (step 9)\n",
    "    Cmatrix = np.dot(matZ,Cprime)\n",
    "    #Computation of the total energie (eq 3.274 p176)\n",
    "    Etot = 0.5*np.sum(Pmatrix*(HcoreMatrix+Fmatrix))\n",
    "    Efull = Etot+Enuc(AtomicCharges,coordinates)\n",
    "    #Storing the previous density matrix\n",
    "    oldP = Pmatrix.copy()\n",
    "    #Computing the new density matrix (step 10)\n",
    "    Pmatrix = buildPmatrix(Cmatrix,nbOrbitals,orbOccupied)\n",
    "    #Computing the convergence criteria (step 11)\n",
    "    Threshold = diffP(oldP,Pmatrix)\n",
    "    print('step {}'.format(step))\n",
    "    print('Orbitalar Energies')\n",
    "    print(E)\n",
    "    print('Electronic E \\t {}\\ntotal E \\t {}'.format(Etot,Efull))\n",
    "    print('S','F')\n",
    "    print(np.hstack((OverlapMatrix,Fmatrix)))\n",
    "    print('C','P')\n",
    "    print(np.hstack((Cmatrix,Pmatrix)))\n",
    "    print('\\n')\n",
    "    step+=1\n"
   ]
  },
  {
   "cell_type": "code",
   "execution_count": null,
   "id": "3eeee475",
   "metadata": {},
   "outputs": [],
   "source": []
  }
 ],
 "metadata": {
  "kernelspec": {
   "display_name": "Python 3 (ipykernel)",
   "language": "python",
   "name": "python3"
  },
  "language_info": {
   "codemirror_mode": {
    "name": "ipython",
    "version": 3
   },
   "file_extension": ".py",
   "mimetype": "text/x-python",
   "name": "python",
   "nbconvert_exporter": "python",
   "pygments_lexer": "ipython3",
   "version": "3.9.13"
  }
 },
 "nbformat": 4,
 "nbformat_minor": 5
}
