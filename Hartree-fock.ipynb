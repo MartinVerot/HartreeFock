{
 "cells": [
  {
   "cell_type": "markdown",
   "id": "2dee9536",
   "metadata": {},
   "source": [
    "# Méthode Hartree-Fock : un exemple sur des fonctions 1s avec une base de type STO-3G\n",
    "\n",
    "Ce code sous python vise à montrer sur un exemple simple comment peut se faire un calcul de type Hartree-Fock restreint sur deux exemples : la molécule de dihydrogène et HeH$^+$. Le but est ici d'illustrer la partie algorithmique dans une version simplifiée. Il a initialement été réalisé pour les étudiants suivant l'UE de Modélisation Moléculaire en L3 à l'ENS de Lyon au sein de la formation Sciences de la matière.\n",
    "\n",
    "Il cherche à venir en complément du cours sur la méthode Hartree-Fock disponible ici :\n",
    "http://agregationchimie.free.fr/cours.php#HartreeFock\n",
    "\n",
    "Par souci d'universalité, les équations font références au livre :\n",
    "\n",
    "* **Modern quantum chemistry : introduction to advanced electronic structure theory**\n",
    "  *Attila Szabo, Neil S. Ostlund*\n",
    "  ISBN 9780486691862\n",
    "\n",
    "\n",
    "Ce code s'inspire lourdement de cette page :\n",
    "https://medium.com/analytics-vidhya/practical-introduction-to-hartree-fock-448fc64c107b\n",
    "\n",
    "Ce code est mis à disposition sous licence CC-BY-NC-SA.\n",
    "\n",
    "\n",
    "* [Lecture d'un fichier xyz](#xyz)\n",
    "* [Lecture des fichiers de base](#basis-set)\n",
    "* [Nombre d'électrons](#nb-elec)\n",
    "* [Calcul des intégrales](#calcul-int)\n",
    " * [Définition d'une classe qui correspond à une orbitale](#classe-orb)\n",
    " * [Définition d'une classe qui correspond à un produit d'orbitale](#classe-prod)\n",
    " * [Création de la base des orbitales atomiques $\\chi_\\mu$](#orb-creation)\n",
    " * [Calcul du recouvrement](#overlap)\n",
    " * [Calcul de l'énergie cinétique](#kinetic)\n",
    " * [Calcul de l'énergie potentielle électron-noyau](#TNe)\n",
    " * [Calcul des intégrales bi-électroniques](#intbi)\n",
    "* [Initialisation de la matrice densité/des coefficients](#densitymatrix)\n",
    "* [Construction de la partie bi-électronique](#intbiG)\n",
    "* [Procédure SCF](#scf)"
   ]
  },
  {
   "cell_type": "code",
   "execution_count": 1,
   "id": "3cba46ba",
   "metadata": {},
   "outputs": [],
   "source": [
    "#import de librairies\n",
    "import numpy as np\n",
    "import scipy\n",
    "from scipy.special import erf\n",
    "import json"
   ]
  },
  {
   "cell_type": "markdown",
   "id": "8eaa8f2b",
   "metadata": {},
   "source": [
    "Définition de quelques variables usuelles : abbréviations des éléments et leur numéro atomique. En pratique, ici, on se limitera à H et He."
   ]
  },
  {
   "cell_type": "code",
   "execution_count": 2,
   "id": "639901b9",
   "metadata": {},
   "outputs": [],
   "source": [
    "#Atomes \n",
    "AtomList = ['H', 'He', 'Li', 'Be', 'B', 'C', 'N', 'O', 'F', 'Ne', 'Na', 'Mg', 'Al', 'Si', 'P', 'S', 'Cl', 'Ar', 'K', 'Ca', 'Sc', 'Ti', 'V', 'Cr', 'Mn', 'Fe', 'Co', 'Ni', 'Cu', 'Zn', 'Ga', 'Ge', 'As', 'Se', 'Br', 'Kr', 'Rb', 'Sr', 'Y', 'Zr', 'Nb', 'Mo', 'Tc', 'Ru', 'Rh', 'Pd', 'Ag', 'Cd', 'In', 'Sn', 'Sb', 'Te', 'I', 'Xe', 'Cs', 'Ba', 'La', 'Ce', 'Pr', 'Nd', 'Pm', 'Sm', 'Eu', 'Gd', 'Tb', 'Dy', 'Ho', 'Er', 'Tm', 'Yb', 'Lu', 'Hf', 'Ta', 'W', 'Re', 'Os', 'Ir', 'Pt', 'Au', 'Hg', 'Tl', 'Pb', 'Bi', 'Po', 'At', 'Rn', 'Fr', 'Ra', 'Ac', 'Th', 'Pa', 'U', 'Np', 'Pu', 'Am', 'Cm', 'Bk', 'Cf', 'Es', 'Fm', 'Md', 'No', 'Lr', 'Rf', 'Db', 'Sg', 'Bh', 'Hs', 'Mt', 'Ds', 'Rg', 'Cn', 'Nh', 'Fl', 'Mc', 'Lv', 'Ts', 'Og']\n",
    "AtomCharges = np.arange(1,119,1)"
   ]
  },
  {
   "cell_type": "markdown",
   "id": "1b096826",
   "metadata": {},
   "source": [
    "<span id=\"xyz\"></span>\n",
    "# Lecture d'un fichier xyz\n",
    "\n",
    "Les fichiers .xyz sont un format courant d'import export de coordonnées atomiques. Cette fonction va donc permettre de les lire automatiquement. Dans un fichier .xyz La première ligne indique combien d'atomes sont présents, la deuxième ligne est une ligne de commentaire. Les lignes suivantes indiquent le type d'atome puis leurs coordonnées selon x y et z.\n",
    "\n"
   ]
  },
  {
   "cell_type": "code",
   "execution_count": 3,
   "id": "9268eb5b",
   "metadata": {},
   "outputs": [],
   "source": [
    "def read_xyz_file(file):\n",
    "    \"\"\"\n",
    "    Fonction pour lire un fichier xyz\n",
    "    - file est le nom du fichier à lire qui doit être au format xyz\n",
    "    \"\"\"\n",
    "    file = open(file,'r')\n",
    "    nbAtoms = 0 #nombre d'atomes lus ligne à ligne\n",
    "    check = 0 # nombre d'atomes indiqués sur la première ligne\n",
    "    Atoms = [] # Liste des types d'atomes\n",
    "    coordinates = [] #Liste des coordonnées des atomes\n",
    "    #lecture du fichier ligne à ligne\n",
    "    for idx, line in enumerate(file):\n",
    "        #Pour la première ligne du fichier, on regarde combien d'atomes on est censé lire\n",
    "        if idx == 0:\n",
    "            check = int(line.split()[0])\n",
    "        #On ignore la ligne de commentaire puis on lit les coordonnées ligne à ligne\n",
    "        elif idx>1:\n",
    "            split = line.split() #découpage des lignes\n",
    "            Atoms.append(split[0]) #lecture du type d'atome\n",
    "            #lecture des coordonnées et conversion en type float\n",
    "            coordinates.append(np.array([split[1],split[2],split[3]],dtype='float'))\n",
    "            nbAtoms+=1 #on incrémente le type d'atomes \n",
    "    file.close() #clôture du fichier\n",
    "    if check != nbAtoms:\n",
    "        print('Attention, le nombre de coordonnées lues est différent du nombre théorique d\\'atome dans la molécule')\n",
    "    return nbAtoms, Atoms, coordinates"
   ]
  },
  {
   "cell_type": "code",
   "execution_count": 4,
   "id": "31da9112",
   "metadata": {},
   "outputs": [],
   "source": [
    "#fichier d'exemple\n",
    "file = 'H2.xyz'\n",
    "file = 'HeH.xyz'\n",
    "#lecture du fichier .xyz avec les coordonnées des atomes\n",
    "nbAtoms, Atoms, coordinates = read_xyz_file(file)\n",
    "\"\"\"\n",
    "On créé un nouveau tableau avec les charges des atomes pour ensuite pouvoir consruire \n",
    "le potentiel d'interaction électron-noyau T_Ne. Pour cela, on cherche la position de la chaîne de caractère \n",
    "correspondant au symbole atomique puis on fait la correspondance grâce au tableau AtomCharges\n",
    "\"\"\"\n",
    "AtomicCharges = []\n",
    "for atom in Atoms:\n",
    "    idx = AtomList.index(atom)\n",
    "    AtomicCharges.append(AtomCharges[idx])\n",
    "\n",
    "#Affichage pour contrôler les variables lues et la correspondance des charges    \n",
    "#print(AtomicCharges)\n",
    "#print(nbAtoms)\n",
    "#print(Atoms)\n",
    "#print(coordinates)"
   ]
  },
  {
   "cell_type": "markdown",
   "id": "9c9db88c",
   "metadata": {},
   "source": [
    "<span id=\"basis-set\"></span>\n",
    "# Lecture des fonctions de base\n",
    "\n",
    "On va maintenant définir les fonctions de base, en utilisant la base minimale de type STO-3G.\n",
    "\n",
    "Le fichier obtenu provient du site https://www.basissetexchange.org/ avec un export au format json."
   ]
  },
  {
   "cell_type": "code",
   "execution_count": 5,
   "id": "c6b848ea",
   "metadata": {},
   "outputs": [],
   "source": [
    "def readBasisSetJSON(file):\n",
    "    \"\"\"\n",
    "    file doit contenir les fonctions de base au format JSON exporté à partir du site https://www.basissetexchange.org/\n",
    "    ATTENTION :\n",
    "    - les fonctions de bases pour l'hydrogène du Szabo (p159) correspondent à la version 0 du site, \n",
    "      il faut faire un export avec le mode \"advanced\". \n",
    "    - De même, les fonctions de base utilisées pour l'hélium sont celles du site et les valeurs diffèrent \n",
    "      de celles données dans le Szabo p170 \n",
    "    - Le programme ne fonctionne PAS avec les orbitales p, donc il n'est PAS capable de faire des calculs pour des\n",
    "      molécules contenant des atomes autre que l'hélium ou l'hydrogène\n",
    "    - Pour que la correspondance entre type d'atome et base de fonction soit correct, il faut que le fichier json \n",
    "      contienne les bases pour tous les types d'atomes jusqu'au numéro atomique de l'élément le plus lourd\n",
    "    \"\"\" \n",
    "    f = open(file_basis)\n",
    "    basis_sets = json.load(f)\n",
    "    #Exposants et coefficients pour les orbitales s\n",
    "    Sexponents = []\n",
    "    Scoefficients = []\n",
    "    #Exposants et coefficients pour les orbitales p\n",
    "    Pexponents = []\n",
    "    Pcoefficients = []\n",
    "\n",
    "    #Pour chaque élement, on lit les fonctions de base :\n",
    "    for i,element in enumerate(basis_sets['elements']):\n",
    "        #lecture pour chaque couche\n",
    "        #print(AtomList[int(element)-1]) #affichage de l'élément\n",
    "        #On ajoute une liste d'exposants et coefficients pour chaque nouvel élément\n",
    "        Sexponents.append([])\n",
    "        Pexponents.append([])\n",
    "        Scoefficients.append([])\n",
    "        Pcoefficients.append([])\n",
    "        \"\"\"\n",
    "        Ensuite, on lit progressivement par valeur croissante, cela permet de naturellement remplir par couche croissante \n",
    "        1s puis 2s, etc. \n",
    "        Ne marche plus à partir des atomes ayant des orbitales d (Z>=21, Scandium)\n",
    "        \"\"\"\n",
    "        for shell in basis_sets['elements'][element]['electron_shells']: \n",
    "            #lecture des coefficients pour chaque sous-couche\n",
    "            for subshell in shell['angular_momentum']:\n",
    "                AtomExponents = np.asarray(shell['exponents'],dtype=\"float\")\n",
    "                AtomCoefficients = np.asarray(shell['coefficients'][subshell],dtype=\"float\")\n",
    "                if subshell == 0:\n",
    "                    Sexponents[i].append(AtomExponents)\n",
    "                    Scoefficients[i].append(AtomCoefficients)\n",
    "                if subshell == 1:\n",
    "                    Pexponents[i].append(AtomExponents)\n",
    "                    Pcoefficients[i].append(AtomCoefficients)\n",
    "    return Sexponents,Scoefficients,Pexponents,Pcoefficients"
   ]
  },
  {
   "cell_type": "code",
   "execution_count": 6,
   "id": "4ec18727",
   "metadata": {},
   "outputs": [],
   "source": [
    "#fichier contenant les fonctions de base\n",
    "file_basis = 'sto-3g0.json'\n",
    "Sexponents,Scoefficients,Pexponents,Pcoefficients = readBasisSetJSON(file_basis)"
   ]
  },
  {
   "cell_type": "code",
   "execution_count": 7,
   "id": "6ab42512",
   "metadata": {},
   "outputs": [
    {
     "name": "stdout",
     "output_type": "stream",
     "text": [
      "H\n",
      "1s\n",
      "[3.42525091 0.62391373 0.1688554 ]\n",
      "[0.15432897 0.53532814 0.44463454]\n",
      "He\n",
      "1s\n",
      "[6.36242139 1.158923   0.31364979]\n",
      "[0.15432897 0.53532814 0.44463454]\n"
     ]
    }
   ],
   "source": [
    "#Affichage des exposants puis des coefficients pour chaque orbitale gaussienne de la contraction pour les orbitales s\n",
    "for i,coeffs in enumerate(Sexponents):\n",
    "    print(AtomList[i])\n",
    "    for j,exponents in enumerate(coeffs):\n",
    "        print('{}s'.format(j+1))\n",
    "        print(exponents)\n",
    "        print(Scoefficients[i][j])"
   ]
  },
  {
   "cell_type": "markdown",
   "id": "3b8bcc60",
   "metadata": {},
   "source": [
    "<span id=\"nb-elec\"></span>\n",
    "# Nombre d'électrons au sein de la molécule"
   ]
  },
  {
   "cell_type": "code",
   "execution_count": 8,
   "id": "b5cf2785",
   "metadata": {},
   "outputs": [],
   "source": [
    "NbElectrons = int(2)\n",
    "#nombre d'orbitales doublement occupées (on se place en formalisme restreint)\n",
    "orbOccupied = int(NbElectrons/2)"
   ]
  },
  {
   "cell_type": "markdown",
   "id": "2be67426",
   "metadata": {},
   "source": [
    "<span id=\"calcul-int\"></span>\n",
    "# Calcul des intégrales"
   ]
  },
  {
   "cell_type": "markdown",
   "id": "85ee6c18",
   "metadata": {},
   "source": [
    "<span id=\"classe-orb\"></span>\n",
    "### Définition d'une classe qui correspond à une orbitale\n",
    "\n",
    "\n",
    "ATTENTION :\n",
    "$\\chi^\\mathrm{G}_{\\alpha_{p\\mu},\\mathbf{R_A}}\\left(\\mathbf{r} \\right) = \\left(\\dfrac{2 \\alpha_{p\\mu}}{\\pi}\\right)^{0.75}\\exp(-\\alpha_{p\\mu} |\\mathbf{r}-\\mathbf{r}_A|^2)$\n",
    "\n",
    "Nous allons avoir besoin de stocker des orbitales. Plutôt que de stocker la fonction complète sous sa forme $\\chi^{CGF}_{\\mu}\\left(\\mathbf{r}-\\mathbf{R}_A \\right) = \\sum_{p=1}^{L} c_{p\\mu}\\chi^\\mathrm{G}_{\\alpha_{p\\mu},\\mathbf{R_A}}\\left(\\mathbf{r} \\right)$\n",
    "on va la stocker sous la forme de deux tableaux :\n",
    "* un tableau avec les exposants de la gaussienne $\\{\\alpha_{p\\mu}\\}$\n",
    "* un tableau avec les coefficients de la gaussienne $\\{c_{p\\mu}\\}$ \n",
    "Lorsque l'on devra faire des produits de gaussienne, il sera alors plus facile de trouver l'expression des gaussiennes correspondant au produit de fonction.\n",
    "\n",
    "On en profite également pour rendre humainement plus compréhensible l'orbitale dont il est question : pour cela, on donne pour nom à l'orbitale : \n",
    "- l'indice de l'atome dans le tableau `Atoms`\n",
    "- suivi du symbole de l'élemnt\n",
    "- suivi de la couche s correspondante\n",
    "\n",
    "Ainsi, pour la molécule HeH$^+$, la première orbitale s'appelera OHe1s et la deuxième 1H1s. \n",
    "\n",
    "On note également les coordonnées de l'atome sur lequel est centré l'orbitale gaussienne.\n",
    "\n"
   ]
  },
  {
   "cell_type": "code",
   "execution_count": 9,
   "id": "df79d81e",
   "metadata": {},
   "outputs": [],
   "source": [
    "class Orbital:\n",
    "    \"\"\"\n",
    "    name Le nom de l'orbitale : numéro de l'atome, type puis type d'orbitale\n",
    "    center : coordonnées 3D de l'atome portant l'OA\n",
    "    exponents :  les exposants des gaussiennes sous forme de tableau numpy\n",
    "    coeffs : les coefficients associés à chaque primitive\n",
    "    \"\"\"\n",
    "    def __init__(self, name, center, exponents, coeffs):\n",
    "        self.name = name\n",
    "        self.center = center\n",
    "        self.exponents = exponents\n",
    "        self.coeffs = coeffs\n",
    "    def __repr__(self):\n",
    "        return 'name :         {}\\ncenter :       {}\\nexponents    : {}\\ncoefficients : {}'.format(self.name,self.center,self.exponents,self.coeffs)"
   ]
  },
  {
   "cell_type": "markdown",
   "id": "5e646c02",
   "metadata": {},
   "source": [
    "<span id=\"classe-prod\"></span>\n",
    "### Définition d'une classe qui correspond à un produit d'orbitale\n",
    "Idem, on crée une classe qui contient un produit d'orbitales atomiques pour cela, on stocke \n",
    "- `p` les exposants des nouvelles gaussiennes qui sont la somme des 2 exposants ($p = \\alpha+ \\beta$ équation 3.209 du Szabo)\n",
    "- `ab` qui est le produit des deux exposants (utile pour calculer certaines intégrales par la suite) ($\\alpha\\times \\beta$)\n",
    "- `diffR` la norme de l'écart entre les deux centres des gaussiennes d'origine ($|\\mathbf{r}_A-\\mathbf{r}_B|^2$)\n",
    "- `K` la constante de normalisation correspondant au produit $\\mathtt{K}= \\exp(-\\mathtt{ab}/\\mathtt{p}*\\mathtt{diffR})\\times \\left(\\dfrac{4 \\alpha\\times \\beta }{\\pi^2}\\right)^{0.75} \\times c_A\\times c_B $ (équation 3.208 avec un facteur $\\left(\\dfrac{4 \\alpha\\times \\beta }{\\pi^2}\\right)^{0.75}$ supplémentaire pour prendre en compte le facteur de normalisation des gaussiennes et les coefficients $c_A$ et $c_B$ qui sont les $c_{p\\mu}$.)\n",
    "- `Rp` la position du nouveau centre résultant du produit de gaussiennes\n",
    "\n",
    "On a donc $\\chi_\\mu\\times\\chi_\\nu = \\sum_i K_i\\exp(-p_i |\\mathbf{r}-\\mathbf{Rp}|^2)$"
   ]
  },
  {
   "cell_type": "code",
   "execution_count": 10,
   "id": "0d150240",
   "metadata": {},
   "outputs": [],
   "source": [
    "class OrbitalProduct:\n",
    "    \"\"\"\n",
    "    name : nom du produit\n",
    "    p : exposant associé à chacun des termes du produit\n",
    "    diffR : norme de l'écart entre les centres atomiques\n",
    "    K : coefficient normalisé associé à chacun des produits\n",
    "    Rp : position de l'orbitale associée au produit\n",
    "    \"\"\"\n",
    "    def __init__(self,name,p, ab,diffR, K, Rp):\n",
    "        self.name = name\n",
    "        self.p = p\n",
    "        self.ab = ab\n",
    "        self.diffR = diffR\n",
    "        self.K = K\n",
    "        self.Rp = Rp"
   ]
  },
  {
   "cell_type": "markdown",
   "id": "12ff72db",
   "metadata": {},
   "source": [
    "On utilise les résultats du Szabo p 154, ou 411 pour effectuer le calcul de la gaussienne correspondant au produit de deux gaussiennes simples."
   ]
  },
  {
   "cell_type": "code",
   "execution_count": 11,
   "id": "ed3d6000",
   "metadata": {},
   "outputs": [],
   "source": [
    "#calcul d'un produit de gaussienne simple (Szabo p411)\n",
    "#Le facteur N permet d'avoir des orbitales normalisées pour avoir le bon résultat\n",
    "def ProductGaussians(orba,orbb,i,j):\n",
    "    #somme des exposants\n",
    "    p = orba.exponents[i] + orbb.exponents[j]\n",
    "    ab = orba.exponents[i]*orbb.exponents[j]\n",
    "    #calcul de la norme de la différence des centres pour la normalisation\n",
    "    diffR = (np.linalg.norm(orba.center-orbb.center))**2\n",
    "    #facteur de normalisation+coefficients\n",
    "    N = (4*ab/(np.pi**2))**0.75\n",
    "    K = N*np.exp(-ab/p*diffR)*orba.coeffs[i]*orbb.coeffs[j]\n",
    "    #centre de la nouvelle orbitale\n",
    "    Rp = (orba.exponents[i]*orba.center+orbb.exponents[j]*orbb.center)/p\n",
    "    return p,ab, diffR, K, Rp"
   ]
  },
  {
   "cell_type": "markdown",
   "id": "06a34e6b",
   "metadata": {},
   "source": [
    "Puis on généralise le calcul à des produits d'orbitales qui sont la somme de gaussiennes. Le produit de deux orbitales de type STO-3G donne donc naissance à 9 orbitales gaussiennes."
   ]
  },
  {
   "cell_type": "code",
   "execution_count": 12,
   "id": "b1cb3b82",
   "metadata": {},
   "outputs": [],
   "source": [
    "def ProductOrbitals(orba,orbb):\n",
    "    ps=[]\n",
    "    Ks=[]\n",
    "    Rps=[]\n",
    "    abss=[]\n",
    "    for i in range(orba.exponents.shape[0]):\n",
    "        for j in range(orbb.exponents.shape[0]):\n",
    "            p, ab, diffR, K, Rp = ProductGaussians(orba,orbb,i,j)\n",
    "            ps.append(p)\n",
    "            Ks.append(K)\n",
    "            Rps.append(Rp)\n",
    "            abss.append(ab)\n",
    "    return OrbitalProduct('{}x{}'.format(orba.name,orbb.name),np.asarray(ps),np.asarray(abss),diffR,np.asarray(Ks),np.asarray(Rps))"
   ]
  },
  {
   "cell_type": "markdown",
   "id": "d53ff451",
   "metadata": {},
   "source": [
    "<span id=\"orb-creation\"></span>\n",
    "## Création de la base des orbitales atomiques $\\chi_\\mu$\n",
    "Ensuite, pour chaque atome, on lui associe les orbitales atomiques correspondantes.\n",
    "\n",
    "`nbOrbitals` est le nombre total de fonctions de base (noté $M$ dans le polycopié)"
   ]
  },
  {
   "cell_type": "code",
   "execution_count": 13,
   "id": "1d10f00d",
   "metadata": {},
   "outputs": [],
   "source": [
    "Orbitals = []\n",
    "#Nombre total d'orbitales à considérer\n",
    "nbOrbitals = 0\n",
    "\n",
    "\"\"\"\n",
    "Assignation des orbitales pour chaque atome : on attache les orbitales associées à chaque élément\n",
    "pour chaque atome à sa position\n",
    "\"\"\"\n",
    "for i,atom in enumerate(Atoms):\n",
    "    idx = AtomList.index(atom)\n",
    "    for j,exponents in enumerate(Sexponents[idx]):\n",
    "        Orbitals.append(Orbital('{}{}{}s'.format(i,atom,j+1),coordinates[i],exponents,Scoefficients[idx][j]))\n",
    "        nbOrbitals +=1    "
   ]
  },
  {
   "cell_type": "code",
   "execution_count": 14,
   "id": "3d3ab17d",
   "metadata": {
    "scrolled": true
   },
   "outputs": [
    {
     "name": "stdout",
     "output_type": "stream",
     "text": [
      "name :         0He1s\n",
      "center :       [0. 0. 0.]\n",
      "exponents    : [6.36242139 1.158923   0.31364979]\n",
      "coefficients : [0.15432897 0.53532814 0.44463454]\n",
      "name :         1H1s\n",
      "center :       [0.     0.     1.4632]\n",
      "exponents    : [3.42525091 0.62391373 0.1688554 ]\n",
      "coefficients : [0.15432897 0.53532814 0.44463454]\n"
     ]
    }
   ],
   "source": [
    "#Affichage des orbitales considérées        \n",
    "for i,orb in enumerate(Orbitals):\n",
    "    print(orb)"
   ]
  },
  {
   "cell_type": "markdown",
   "id": "8bd9d2f1",
   "metadata": {},
   "source": [
    "<span id=\"overlap\"></span>\n",
    "## Calcul du recouvrement\n",
    "On utilise la formule A.9 p412 du Szabo adaptée avec le `K` prenant en compte les coefficients, la normalisation, etc."
   ]
  },
  {
   "cell_type": "code",
   "execution_count": 15,
   "id": "50f1ee8a",
   "metadata": {},
   "outputs": [],
   "source": [
    "def Overlap(gp):\n",
    "    \"\"\"\n",
    "    Calcul du recouvrement qui est l'intégrale du produit de deux gaussiennes\n",
    "    La formule commentée est équivalente à celle utilisée.\n",
    "    - gp est un objet de type `OrbitalProduct`\n",
    "    \"\"\"\n",
    "    #S = 0\n",
    "    #for j in range(len(gp.p)):\n",
    "    #    S+=gp.K[j]*(np.pi/gp.p[j])**1.5\n",
    "    S = np.sum(gp.K*(np.pi/gp.p)**1.5)\n",
    "    return S"
   ]
  },
  {
   "cell_type": "code",
   "execution_count": 16,
   "id": "eb2d6abc",
   "metadata": {},
   "outputs": [
    {
     "name": "stdout",
     "output_type": "stream",
     "text": [
      "[[0.99999999 0.53681935]\n",
      " [0.53681935 0.99999999]]\n"
     ]
    }
   ],
   "source": [
    "#Initialisation de la matrice de recouvrement\n",
    "OverlapMatrix = np.zeros((nbOrbitals,nbOrbitals))\n",
    "\n",
    "#Calcul de chacun des termes de la matrice, S étant diagonal symétrique, on évite de faire deux fois le même calcul.\n",
    "for i in range(nbOrbitals):\n",
    "    for j in range(i,nbOrbitals):\n",
    "        product = ProductOrbitals(Orbitals[i],Orbitals[j])\n",
    "        S = Overlap(product)\n",
    "        OverlapMatrix[i,j]=S\n",
    "        OverlapMatrix[j,i]=S\n",
    "\n",
    "print(OverlapMatrix)"
   ]
  },
  {
   "cell_type": "markdown",
   "id": "98138696",
   "metadata": {},
   "source": [
    "<span id=\"kinetic\"></span>\n",
    "## Calcul de l'énergie cinétique\n",
    "On utilise la formule A.11 p412 du Szabo."
   ]
  },
  {
   "cell_type": "code",
   "execution_count": 17,
   "id": "e2174c3f",
   "metadata": {},
   "outputs": [],
   "source": [
    "def Kinetic(gp):\n",
    "    \"\"\"\n",
    "    Calcul de l'énergie cinétique\n",
    "    La formule commentée est équivalente à celle utilisée.\n",
    "    - gp est un objet de type `OrbitalProduct`\n",
    "    \"\"\"\n",
    "    #K = 0\n",
    "    #for j in range(len(gp.p)):\n",
    "    #    prefactor = gp.ab[j]/gp.p[j]*(3-2*gp.ab[j]/gp.p[j] *gp.diffR )\n",
    "    #    K+=prefactor*gp.K[j]*(np.pi/gp.p[j])**1.5\n",
    "    return np.sum(gp.ab/gp.p *(3-2*gp.ab/gp.p*gp.diffR)*gp.K*(np.pi/gp.p)**1.5)   "
   ]
  },
  {
   "cell_type": "code",
   "execution_count": 18,
   "id": "931d8cef",
   "metadata": {},
   "outputs": [
    {
     "name": "stdout",
     "output_type": "stream",
     "text": [
      "[[1.41176317 0.19744319]\n",
      " [0.19744319 0.76003188]]\n"
     ]
    }
   ],
   "source": [
    "#Initialisation de la matrice de recouvrement\n",
    "KineticMatrix = np.zeros((nbOrbitals,nbOrbitals))\n",
    "\n",
    "#Calcul de chacun des termes de la matrice, K étant diagonal symétrique, on évite de faire deux fois le même calcul.\n",
    "for i in range(nbOrbitals):\n",
    "    for j in range(i,nbOrbitals):\n",
    "        product = ProductOrbitals(Orbitals[i],Orbitals[j])\n",
    "        K = Kinetic(product)\n",
    "        KineticMatrix[i,j]=K\n",
    "        KineticMatrix[j,i]=K\n",
    "\n",
    "print(KineticMatrix)"
   ]
  },
  {
   "cell_type": "markdown",
   "id": "4365290a",
   "metadata": {},
   "source": [
    "<span id=\"TNe\"></span>\n",
    "## Calcul de l'énergie potentielle électron-noyau\n",
    "On utilise la formule A.33 p415 du Szabo. "
   ]
  },
  {
   "cell_type": "code",
   "execution_count": 19,
   "id": "5aa7b21d",
   "metadata": {},
   "outputs": [],
   "source": [
    "#Fonction définie équation A.32 page 415\n",
    "def Fo(t):\n",
    "    if t==0:\n",
    "        return 1\n",
    "    else:\n",
    "        return (0.5*(np.pi/t)**0.5)*erf(t**0.5)\n",
    "    \n",
    "def Potential(gp):\n",
    "    \"\"\"\n",
    "    Calcul de l'énergie électron-noyau\n",
    "    La formule commentée est équivalente à celle utilisée.\n",
    "    - gp est un objet de type `OrbitalProduct`\n",
    "    \"\"\"\n",
    "    V = 0\n",
    "    for j in range(len(gp.p)):\n",
    "        #On somme les termes en Z/rAi :\n",
    "        for idx,Z in enumerate(AtomicCharges):\n",
    "            prefactor = -2*np.pi/gp.p[j]*Z*Fo(gp.p[j]*(np.linalg.norm(gp.Rp[j]-coordinates[idx]))**2)\n",
    "            V+=prefactor*gp.K[j]\n",
    "    return V   "
   ]
  },
  {
   "cell_type": "code",
   "execution_count": 20,
   "id": "bb4a0a62",
   "metadata": {},
   "outputs": [
    {
     "name": "stdout",
     "output_type": "stream",
     "text": [
      "[[-4.01004617 -1.62927168]\n",
      " [-1.62927168 -2.49185753]]\n"
     ]
    }
   ],
   "source": [
    "#Initialisation de la matrice d'énergie potentielle\n",
    "VMatrix = np.zeros((nbOrbitals,nbOrbitals))\n",
    "\n",
    "#Calcul de chacun des termes de la matrice, V étant diagonal symétrique, on évite de faire deux fois le même calcul.\n",
    "for i in range(nbOrbitals):\n",
    "    for j in range(i,nbOrbitals):\n",
    "        product = ProductOrbitals(Orbitals[i],Orbitals[j])\n",
    "        V = Potential(product)\n",
    "        VMatrix[i,j]=V\n",
    "        VMatrix[j,i]=V\n",
    "\n",
    "print(VMatrix)"
   ]
  },
  {
   "cell_type": "markdown",
   "id": "b564980e",
   "metadata": {},
   "source": [
    "## Calcul de la partie mono-électronique $H^\\mathrm{core}$\n",
    "équation 3.153 p141 du Szabo"
   ]
  },
  {
   "cell_type": "code",
   "execution_count": 21,
   "id": "f230b46c",
   "metadata": {},
   "outputs": [
    {
     "name": "stdout",
     "output_type": "stream",
     "text": [
      "[[-2.59828299 -1.43182849]\n",
      " [-1.43182849 -1.73182566]]\n"
     ]
    }
   ],
   "source": [
    "HcoreMatrix = KineticMatrix+VMatrix\n",
    "print(HcoreMatrix)"
   ]
  },
  {
   "cell_type": "markdown",
   "id": "a5d662d9",
   "metadata": {},
   "source": [
    "<span id=\"intbi\"></span>\n",
    "## Calcul des intégrales bi-électroniques\n",
    "On utilise la formule A.41 p 416 du Szabo"
   ]
  },
  {
   "cell_type": "code",
   "execution_count": 22,
   "id": "59a3839f",
   "metadata": {},
   "outputs": [],
   "source": [
    "def integralbi(orba,orbb,orbc,orbd):\n",
    "    #a et b sont occupées par l'électron 1\n",
    "    #c et d sont occupées par l'électton 2\n",
    "    prAB = ProductOrbitals(orba,orbb)\n",
    "    prCD = ProductOrbitals(orbc,orbd)\n",
    "    I=0\n",
    "    for i in range(len(prAB.p)):\n",
    "        for j in range(len(prCD.p)):\n",
    "            prefactor = (2*np.pi**2.5)/(prAB.p[i]*prCD.p[j]*(prAB.p[i]+prCD.p[j])**0.5)*Fo(prAB.p[i]*prCD.p[j]/(prAB.p[i]+prCD.p[j])*(np.linalg.norm(prAB.Rp[i]-prCD.Rp[j]))**2)\n",
    "            I+=prefactor*prAB.K[i]*prCD.K[j]\n",
    "    return I "
   ]
  },
  {
   "cell_type": "code",
   "execution_count": 23,
   "id": "e025fd92",
   "metadata": {},
   "outputs": [
    {
     "data": {
      "text/plain": [
       "'\\nVérification des valeurs avec les valeurs du Szabo p162 equation 3.235\\ncombi = (0,1,0,1)\\nprint(combi)\\nprint(integralbi(Orbitals[combi[0]],Orbitals[combi[1]],Orbitals[combi[2]],Orbitals[combi[3]]))\\ncombi = (0,0,1,1)\\nprint(combi)\\nprint(integralbi(Orbitals[combi[0]],Orbitals[combi[1]],Orbitals[combi[2]],Orbitals[combi[3]]))\\ncombi = (0,0,0,0)\\nprint(combi)\\nprint(integralbi(Orbitals[combi[0]],Orbitals[combi[1]],Orbitals[combi[2]],Orbitals[combi[3]]))\\ncombi = (1,1,1,1)\\nprint(combi)\\nprint(integralbi(Orbitals[combi[0]],Orbitals[combi[1]],Orbitals[combi[2]],Orbitals[combi[3]]))\\n'"
      ]
     },
     "execution_count": 23,
     "metadata": {},
     "output_type": "execute_result"
    }
   ],
   "source": [
    "\"\"\"\n",
    "Vérification des valeurs avec les valeurs du Szabo p162 equation 3.235\n",
    "combi = (0,1,0,1)\n",
    "print(combi)\n",
    "print(integralbi(Orbitals[combi[0]],Orbitals[combi[1]],Orbitals[combi[2]],Orbitals[combi[3]]))\n",
    "combi = (0,0,1,1)\n",
    "print(combi)\n",
    "print(integralbi(Orbitals[combi[0]],Orbitals[combi[1]],Orbitals[combi[2]],Orbitals[combi[3]]))\n",
    "combi = (0,0,0,0)\n",
    "print(combi)\n",
    "print(integralbi(Orbitals[combi[0]],Orbitals[combi[1]],Orbitals[combi[2]],Orbitals[combi[3]]))\n",
    "combi = (1,1,1,1)\n",
    "print(combi)\n",
    "print(integralbi(Orbitals[combi[0]],Orbitals[combi[1]],Orbitals[combi[2]],Orbitals[combi[3]]))\n",
    "\"\"\""
   ]
  },
  {
   "cell_type": "markdown",
   "id": "0784a838",
   "metadata": {},
   "source": [
    " <span id=\"densitymatrix\"></span>\n",
    " # Initialisation de la matrice densité/des coefficients"
   ]
  },
  {
   "cell_type": "code",
   "execution_count": 24,
   "id": "73b56a04",
   "metadata": {},
   "outputs": [],
   "source": [
    "def diagonalizeAscendingEigenvalues(M):\n",
    "    \"\"\"\n",
    "    Diagonalise la matrice M en triant les valeurs propres par ordre croissant.\n",
    "    \"\"\"\n",
    "    eigVal,eigVec = np.linalg.eig(M)\n",
    "    idx = np.argsort(eigVal)\n",
    "    eigVal = eigVal[idx]\n",
    "    eigVec = eigVec[:,idx]\n",
    "    return eigVal,eigVec"
   ]
  },
  {
   "cell_type": "code",
   "execution_count": 25,
   "id": "b7aca6b4",
   "metadata": {},
   "outputs": [],
   "source": [
    "def buildPmatrix(Cmatrix,nbOrbitals,orbOccupied):\n",
    "    \"\"\"\n",
    "    Construction de la matrice densité à partir \n",
    "    - des coefficients de Cmatrix\n",
    "    - des orbitales au nombre de nbOrbitals\n",
    "    - orbOccupied qui est le nombre d'orbitales moléculaires **occupées**.\n",
    "    équation 3.145 du Szabo\n",
    "    \"\"\"\n",
    "    Pmatrix = np.zeros_like(Cmatrix)\n",
    "    for i in range(nbOrbitals):\n",
    "        for j in range(nbOrbitals):\n",
    "            Pmatrix[i][j]=2*np.sum(Cmatrix[i,0:orbOccupied]*Cmatrix[j,0:orbOccupied])\n",
    "            Pmatrix[j][i]=Pmatrix[i][j]\n",
    "    return Pmatrix"
   ]
  },
  {
   "cell_type": "markdown",
   "id": "5db08a3a",
   "metadata": {},
   "source": [
    "Pour la matrice densité initiale, on commence ici par diagonaliser la partie mono-électronique."
   ]
  },
  {
   "cell_type": "code",
   "execution_count": 26,
   "id": "1fd02b83",
   "metadata": {},
   "outputs": [
    {
     "name": "stdout",
     "output_type": "stream",
     "text": [
      "[[-0.80299565  0.59598488]\n",
      " [-0.59598488 -0.80299565]]\n"
     ]
    }
   ],
   "source": [
    "E0,C0 = diagonalizeAscendingEigenvalues(HcoreMatrix)\n",
    "Cmatrix = C0\n",
    "print(Cmatrix)\n",
    "\n",
    "#Construction de la matrice densité à partir des coefficients\n",
    "Pmatrix = buildPmatrix(Cmatrix,nbOrbitals,orbOccupied)"
   ]
  },
  {
   "cell_type": "markdown",
   "id": "e6d07245",
   "metadata": {},
   "source": [
    "<span id=\"intbiG\"></span>\n",
    "# Construction de la partie bi-électronique\n",
    "équation 3.154 p141 du Szabo"
   ]
  },
  {
   "cell_type": "code",
   "execution_count": 27,
   "id": "44eae70b",
   "metadata": {},
   "outputs": [],
   "source": [
    "def BuildBiMatrix(nbOrbitals,Pmatrix,Orbitals):\n",
    "    \"\"\"\n",
    "    integralbi utilise la notation \"chimiste\"\n",
    "    - nbOrbitals nombre d'orbitales \n",
    "    - Pmatrix matrice densité\n",
    "    - Orbitals orbitales atomiques\n",
    "    \"\"\"\n",
    "    BiMatrix = np.zeros((nbOrbitals,nbOrbitals))\n",
    "    for mu in range(nbOrbitals):\n",
    "        for nu in range(nbOrbitals):\n",
    "            G = 0\n",
    "            for sigma in range(nbOrbitals):\n",
    "                for llambda in range(nbOrbitals):\n",
    "                    G += Pmatrix[sigma][llambda]*(integralbi(Orbitals[mu],Orbitals[nu],Orbitals[sigma],Orbitals[llambda])-0.5*integralbi(Orbitals[mu],Orbitals[llambda],Orbitals[sigma],Orbitals[nu]))\n",
    "            BiMatrix[mu,nu]=G\n",
    "            BiMatrix[nu,mu]=G\n",
    "    return BiMatrix"
   ]
  },
  {
   "cell_type": "markdown",
   "id": "30573404",
   "metadata": {},
   "source": [
    "<span id=\"symmbase\"></span>\n",
    "# Orthogonalisation de la base des orbitales atomiques\n",
    "Voir p 142-143 du Szabo."
   ]
  },
  {
   "cell_type": "code",
   "execution_count": 28,
   "id": "1522ee6f",
   "metadata": {},
   "outputs": [
    {
     "name": "stdout",
     "output_type": "stream",
     "text": [
      "[[ 0.70710678 -0.70710678]\n",
      " [ 0.70710678  0.70710678]]\n",
      "[[ 1.13800243 -0.33134602]\n",
      " [-0.33134602  1.13800243]]\n"
     ]
    }
   ],
   "source": [
    "#Diagonalisation de la matrice de recouvrement; formule 3.166 du Szabo.\n",
    "evalS,U = np.linalg.eig(OverlapMatrix)\n",
    "\"\"\"\n",
    "U est la matrice de passage telle que S' soit diagonale si on fait \n",
    "U.T × OverlapMatrix × U = s avec s diagonale\n",
    "\"\"\"\n",
    "print(U)\n",
    "#On prend les valeurs propres, on les place sur la diagonale puis on prend s^-0.5\n",
    "invsqrtS = np.diag(evalS**-0.5)\n",
    "#équation 3.167 du Szabo\n",
    "matZ = np.dot(U,np.dot(invsqrtS,U.T))\n",
    "print(matZ)\n",
    "#vérification de l'équation (3.168) comme quoi la base est orthonormée avec matZ\n",
    "#print(np.dot(matZ.T,np.dot(OverlapMatrix,matZ)))"
   ]
  },
  {
   "cell_type": "markdown",
   "id": "c530935b",
   "metadata": {},
   "source": [
    "<span id=\"scf\"></span>\n",
    "# Procédure SCF"
   ]
  },
  {
   "cell_type": "markdown",
   "id": "ff48b897",
   "metadata": {},
   "source": [
    "## Critère de convergence\n",
    "On regarde si la matrice densité a convergé par rapport à l'itération précédente. On pourrait prendre un critère sur l'énergie ou les deux."
   ]
  },
  {
   "cell_type": "code",
   "execution_count": 29,
   "id": "f235be7d",
   "metadata": {},
   "outputs": [],
   "source": [
    "def diffP(P1,P2):\n",
    "    \"\"\"\n",
    "    - P1 matrice densité à l'étape précédente\n",
    "    - P2 matrice densité obtenue à cette étape\n",
    "    \"\"\"\n",
    "    return np.sqrt(np.sum((P1-P2)**2))"
   ]
  },
  {
   "cell_type": "markdown",
   "id": "a6c47927",
   "metadata": {},
   "source": [
    "## Procédure SCF\n",
    "Les étapes sont celles du Szabo p 146"
   ]
  },
  {
   "cell_type": "code",
   "execution_count": 30,
   "id": "06e7a2d3",
   "metadata": {},
   "outputs": [
    {
     "name": "stdout",
     "output_type": "stream",
     "text": [
      "F\n",
      "[[-1.15258827 -0.9757405 ]\n",
      " [-0.9757405  -0.48775592]]\n",
      "S\n",
      "[[0.99999999 0.53681935]\n",
      " [0.53681935 0.99999999]]\n",
      "Énergies\n",
      "[-1.26552808  0.43280733]\n",
      "C\n",
      "[[-0.80209877  0.87262665]\n",
      " [-0.30565053 -1.14517137]]\n",
      "P\n",
      "[[1.28672487 0.49032383]\n",
      " [0.49032383 0.1868445 ]]\n",
      "E\n",
      "-5.511356595936597\n",
      "step\n",
      "1\n",
      "F\n",
      "[[-1.61195766 -1.09173359]\n",
      " [-1.09173359 -0.86342246]]\n",
      "S\n",
      "[[0.99999999 0.53681935]\n",
      " [0.53681935 0.99999999]]\n",
      "Énergies\n",
      "[-1.66186212 -0.168999  ]\n",
      "C\n",
      "[[-0.86681105  0.80838005]\n",
      " [-0.21670705 -1.16528012]]\n",
      "P\n",
      "[[1.50272281 0.37568813]\n",
      " [0.37568813 0.09392389]]\n",
      "E\n",
      "-4.188527237452284\n",
      "step\n",
      "2\n",
      "F\n",
      "[[-1.59331222 -1.06556452]\n",
      " [-1.06556452 -0.83814231]]\n",
      "S\n",
      "[[0.99999999 0.53681935]\n",
      " [0.53681935 0.99999999]]\n",
      "Énergies\n",
      "[-1.63699105 -0.17163222]\n",
      "C\n",
      "[[-0.87513221  0.79936432]\n",
      " [-0.20463355 -1.16746084]]\n",
      "P\n",
      "[[1.53171277 0.35816282]\n",
      " [0.35816282 0.08374978]]\n",
      "E\n",
      "-4.208334471488821\n",
      "step\n",
      "3\n",
      "F\n",
      "[[-1.59066012 -1.06171815]\n",
      " [-1.06171815 -0.83464577]]\n",
      "S\n",
      "[[0.99999999 0.53681935]\n",
      " [0.53681935 0.99999999]]\n",
      "Énergies\n",
      "[-1.63343944 -0.17234742]\n",
      "C\n",
      "[[-0.87637889  0.79799734]\n",
      " [-0.20281099 -1.16777884]]\n",
      "P\n",
      "[[1.53607991 0.35547853]\n",
      " [0.35547853 0.08226459]]\n",
      "E\n",
      "-4.208695235639168\n",
      "step\n",
      "4\n",
      "F\n",
      "[[-1.59025751 -1.06113182]\n",
      " [-1.06113182 -0.8341169 ]]\n",
      "S\n",
      "[[0.99999999 0.53681935]\n",
      " [0.53681935 0.99999999]]\n",
      "Énergies\n",
      "[-1.63290011 -0.17246252]\n",
      "C\n",
      "[[-0.87656948  0.79778797]\n",
      " [-0.20253203 -1.16782725]]\n",
      "P\n",
      "[[1.53674812 0.35506679]\n",
      " [0.35506679 0.08203844]]\n",
      "E\n",
      "-4.208703442948405\n",
      "step\n",
      "5\n",
      "F\n",
      "[[-1.59019583 -1.06104195]\n",
      " [-1.06104195 -0.83403593]]\n",
      "S\n",
      "[[0.99999999 0.53681935]\n",
      " [0.53681935 0.99999999]]\n",
      "Énergies\n",
      "[-1.63281749 -0.1724803 ]\n",
      "C\n",
      "[[-0.87659871  0.79775586]\n",
      " [-0.20248924 -1.16783467]]\n",
      "P\n",
      "[[1.5368506  0.35500362]\n",
      " [0.35500362 0.08200379]]\n",
      "E\n",
      "-4.208703635170599\n",
      "step\n",
      "6\n",
      "F\n",
      "[[-1.59018637 -1.06102816]\n",
      " [-1.06102816 -0.83402351]]\n",
      "S\n",
      "[[0.99999999 0.53681935]\n",
      " [0.53681935 0.99999999]]\n",
      "Énergies\n",
      "[-1.63280482 -0.17248303]\n",
      "C\n",
      "[[-0.8766032   0.79775093]\n",
      " [-0.20248268 -1.16783581]]\n",
      "P\n",
      "[[1.53686633 0.35499393]\n",
      " [0.35499393 0.08199847]]\n",
      "E\n",
      "-4.208703639692313\n",
      "step\n",
      "7\n",
      "F\n",
      "[[-1.59018492 -1.06102604]\n",
      " [-1.06102604 -0.83402161]]\n",
      "S\n",
      "[[0.99999999 0.53681935]\n",
      " [0.53681935 0.99999999]]\n",
      "Énergies\n",
      "[-1.63280288 -0.17248345]\n",
      "C\n",
      "[[-0.87660388  0.79775017]\n",
      " [-0.20248167 -1.16783598]]\n",
      "P\n",
      "[[1.53686874 0.35499244]\n",
      " [0.35499244 0.08199765]]\n",
      "E\n",
      "-4.208703639798751\n",
      "step\n",
      "8\n",
      "F\n",
      "[[-1.5901847  -1.06102572]\n",
      " [-1.06102572 -0.83402131]]\n",
      "S\n",
      "[[0.99999999 0.53681935]\n",
      " [0.53681935 0.99999999]]\n",
      "Énergies\n",
      "[-1.63280258 -0.17248352]\n",
      "C\n",
      "[[-0.87660399  0.79775006]\n",
      " [-0.20248152 -1.16783601]]\n",
      "P\n",
      "[[1.53686911 0.35499221]\n",
      " [0.35499221 0.08199753]]\n",
      "E\n",
      "-4.2087036398012545\n",
      "step\n",
      "9\n"
     ]
    }
   ],
   "source": [
    "# Nombre d'itérations, on arrête si le calcul ne converge pas\n",
    "step = 1\n",
    "# On initialise la valeur du critère de convergence à une valeur élevée pour amorcer la boucle\n",
    "Threshold = 100\n",
    "while Threshold > 1e-6 and step < 100:\n",
    "    #Construction de la partie bi-électronique (étape 5)\n",
    "    BiMatrix = BuildBiMatrix(nbOrbitals,Pmatrix,Orbitals)\n",
    "    #print(BiMatrix)\n",
    "    #Construction de l'opérateur de Fock (étape 6)\n",
    "    Fmatrix = HcoreMatrix + BiMatrix\n",
    "    #Construction de la matrice de Fock F' dans la base d'orbitales orthogonales (étape 7)\n",
    "    FmatrixPrime = np.dot(matZ.T,np.dot(Fmatrix,matZ))\n",
    "    #Diagonalisation de F' (étape 8)\n",
    "    E,Cprime = diagonalizeAscendingEigenvalues(FmatrixPrime)\n",
    "    #Calcul des coefficients dans la base de départ (étape 9)\n",
    "    Cmatrix = np.dot(matZ,Cprime)\n",
    "    #Calcul de l'énergie totale (eq 3.274)\n",
    "    Etot = 0.5*np.sum(Pmatrix*(HcoreMatrix+Fmatrix))\n",
    "    \n",
    "    #Stockage de l'ancienne matrice densité\n",
    "    oldP = Pmatrix.copy()\n",
    "    #calcul de la nouvelle matrice densité (étape 10)\n",
    "    Pmatrix = buildPmatrix(Cmatrix,nbOrbitals,orbOccupied)\n",
    "    #calcul du critère de convergence (étape 11)\n",
    "    Threshold = diffP(oldP,Pmatrix)\n",
    "\n",
    "    print('F')\n",
    "    print(Fmatrix)\n",
    "    print('S')\n",
    "    print(OverlapMatrix)\n",
    "    print('Énergies')\n",
    "    print(E)\n",
    "    print('C')\n",
    "    print(Cmatrix)\n",
    "    print('P')\n",
    "    print(Pmatrix)\n",
    "    print('E')\n",
    "    print(Etot)    \n",
    "    print('step')\n",
    "    print(step)\n",
    "    step+=1\n"
   ]
  }
 ],
 "metadata": {
  "kernelspec": {
   "display_name": "Python 3 (ipykernel)",
   "language": "python",
   "name": "python3"
  },
  "language_info": {
   "codemirror_mode": {
    "name": "ipython",
    "version": 3
   },
   "file_extension": ".py",
   "mimetype": "text/x-python",
   "name": "python",
   "nbconvert_exporter": "python",
   "pygments_lexer": "ipython3",
   "version": "3.9.13"
  }
 },
 "nbformat": 4,
 "nbformat_minor": 5
}
